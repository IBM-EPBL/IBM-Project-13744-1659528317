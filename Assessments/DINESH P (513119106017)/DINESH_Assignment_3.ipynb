{
  "nbformat": 4,
  "nbformat_minor": 0,
  "metadata": {
    "colab": {
      "provenance": [],
      "collapsed_sections": []
    },
    "kernelspec": {
      "name": "python3",
      "display_name": "Python 3"
    },
    "language_info": {
      "name": "python"
    }
  },
  "cells": [
    {
      "cell_type": "markdown",
      "source": [
        "**IMPORT LIBRARIES**"
      ],
      "metadata": {
        "id": "Pj7ipfyA2hob"
      }
    },
    {
      "cell_type": "code",
      "source": [
        "import numpy as np\n",
        "import pandas as pd\n",
        "import matplotlib.pyplot as plt\n",
        "import seaborn as sns"
      ],
      "metadata": {
        "id": "vvGT6DxQ2lO7"
      },
      "execution_count": 57,
      "outputs": []
    },
    {
      "cell_type": "code",
      "source": [
        "import warnings\n",
        "warnings.filterwarnings(\"ignore\")"
      ],
      "metadata": {
        "id": "BmfCmyakBcEo"
      },
      "execution_count": 58,
      "outputs": []
    },
    {
      "cell_type": "markdown",
      "source": [
        "**LOAD DATASET**"
      ],
      "metadata": {
        "id": "6QJ_cIFh3Db9"
      }
    },
    {
      "cell_type": "code",
      "source": [
        "df =pd.read_csv(\"/content/abalone.csv\")"
      ],
      "metadata": {
        "id": "Q6sThPUv2mEf"
      },
      "execution_count": 6,
      "outputs": []
    },
    {
      "cell_type": "code",
      "source": [
        "df.head()"
      ],
      "metadata": {
        "colab": {
          "base_uri": "https://localhost:8080/",
          "height": 206
        },
        "id": "jFxstZ533pEo",
        "outputId": "a450906d-d707-45f0-9f70-b6a3894999e9"
      },
      "execution_count": 7,
      "outputs": [
        {
          "output_type": "execute_result",
          "data": {
            "text/plain": [
              "  Sex  Length  Diameter  Height  Whole weight  Shucked weight  Viscera weight  \\\n",
              "0   M   0.455     0.365   0.095        0.5140          0.2245          0.1010   \n",
              "1   M   0.350     0.265   0.090        0.2255          0.0995          0.0485   \n",
              "2   F   0.530     0.420   0.135        0.6770          0.2565          0.1415   \n",
              "3   M   0.440     0.365   0.125        0.5160          0.2155          0.1140   \n",
              "4   I   0.330     0.255   0.080        0.2050          0.0895          0.0395   \n",
              "\n",
              "   Shell weight  Rings  \n",
              "0         0.150     15  \n",
              "1         0.070      7  \n",
              "2         0.210      9  \n",
              "3         0.155     10  \n",
              "4         0.055      7  "
            ],
            "text/html": [
              "\n",
              "  <div id=\"df-35e10fe6-9d1b-4986-860c-2ea0e20156be\">\n",
              "    <div class=\"colab-df-container\">\n",
              "      <div>\n",
              "<style scoped>\n",
              "    .dataframe tbody tr th:only-of-type {\n",
              "        vertical-align: middle;\n",
              "    }\n",
              "\n",
              "    .dataframe tbody tr th {\n",
              "        vertical-align: top;\n",
              "    }\n",
              "\n",
              "    .dataframe thead th {\n",
              "        text-align: right;\n",
              "    }\n",
              "</style>\n",
              "<table border=\"1\" class=\"dataframe\">\n",
              "  <thead>\n",
              "    <tr style=\"text-align: right;\">\n",
              "      <th></th>\n",
              "      <th>Sex</th>\n",
              "      <th>Length</th>\n",
              "      <th>Diameter</th>\n",
              "      <th>Height</th>\n",
              "      <th>Whole weight</th>\n",
              "      <th>Shucked weight</th>\n",
              "      <th>Viscera weight</th>\n",
              "      <th>Shell weight</th>\n",
              "      <th>Rings</th>\n",
              "    </tr>\n",
              "  </thead>\n",
              "  <tbody>\n",
              "    <tr>\n",
              "      <th>0</th>\n",
              "      <td>M</td>\n",
              "      <td>0.455</td>\n",
              "      <td>0.365</td>\n",
              "      <td>0.095</td>\n",
              "      <td>0.5140</td>\n",
              "      <td>0.2245</td>\n",
              "      <td>0.1010</td>\n",
              "      <td>0.150</td>\n",
              "      <td>15</td>\n",
              "    </tr>\n",
              "    <tr>\n",
              "      <th>1</th>\n",
              "      <td>M</td>\n",
              "      <td>0.350</td>\n",
              "      <td>0.265</td>\n",
              "      <td>0.090</td>\n",
              "      <td>0.2255</td>\n",
              "      <td>0.0995</td>\n",
              "      <td>0.0485</td>\n",
              "      <td>0.070</td>\n",
              "      <td>7</td>\n",
              "    </tr>\n",
              "    <tr>\n",
              "      <th>2</th>\n",
              "      <td>F</td>\n",
              "      <td>0.530</td>\n",
              "      <td>0.420</td>\n",
              "      <td>0.135</td>\n",
              "      <td>0.6770</td>\n",
              "      <td>0.2565</td>\n",
              "      <td>0.1415</td>\n",
              "      <td>0.210</td>\n",
              "      <td>9</td>\n",
              "    </tr>\n",
              "    <tr>\n",
              "      <th>3</th>\n",
              "      <td>M</td>\n",
              "      <td>0.440</td>\n",
              "      <td>0.365</td>\n",
              "      <td>0.125</td>\n",
              "      <td>0.5160</td>\n",
              "      <td>0.2155</td>\n",
              "      <td>0.1140</td>\n",
              "      <td>0.155</td>\n",
              "      <td>10</td>\n",
              "    </tr>\n",
              "    <tr>\n",
              "      <th>4</th>\n",
              "      <td>I</td>\n",
              "      <td>0.330</td>\n",
              "      <td>0.255</td>\n",
              "      <td>0.080</td>\n",
              "      <td>0.2050</td>\n",
              "      <td>0.0895</td>\n",
              "      <td>0.0395</td>\n",
              "      <td>0.055</td>\n",
              "      <td>7</td>\n",
              "    </tr>\n",
              "  </tbody>\n",
              "</table>\n",
              "</div>\n",
              "      <button class=\"colab-df-convert\" onclick=\"convertToInteractive('df-35e10fe6-9d1b-4986-860c-2ea0e20156be')\"\n",
              "              title=\"Convert this dataframe to an interactive table.\"\n",
              "              style=\"display:none;\">\n",
              "        \n",
              "  <svg xmlns=\"http://www.w3.org/2000/svg\" height=\"24px\"viewBox=\"0 0 24 24\"\n",
              "       width=\"24px\">\n",
              "    <path d=\"M0 0h24v24H0V0z\" fill=\"none\"/>\n",
              "    <path d=\"M18.56 5.44l.94 2.06.94-2.06 2.06-.94-2.06-.94-.94-2.06-.94 2.06-2.06.94zm-11 1L8.5 8.5l.94-2.06 2.06-.94-2.06-.94L8.5 2.5l-.94 2.06-2.06.94zm10 10l.94 2.06.94-2.06 2.06-.94-2.06-.94-.94-2.06-.94 2.06-2.06.94z\"/><path d=\"M17.41 7.96l-1.37-1.37c-.4-.4-.92-.59-1.43-.59-.52 0-1.04.2-1.43.59L10.3 9.45l-7.72 7.72c-.78.78-.78 2.05 0 2.83L4 21.41c.39.39.9.59 1.41.59.51 0 1.02-.2 1.41-.59l7.78-7.78 2.81-2.81c.8-.78.8-2.07 0-2.86zM5.41 20L4 18.59l7.72-7.72 1.47 1.35L5.41 20z\"/>\n",
              "  </svg>\n",
              "      </button>\n",
              "      \n",
              "  <style>\n",
              "    .colab-df-container {\n",
              "      display:flex;\n",
              "      flex-wrap:wrap;\n",
              "      gap: 12px;\n",
              "    }\n",
              "\n",
              "    .colab-df-convert {\n",
              "      background-color: #E8F0FE;\n",
              "      border: none;\n",
              "      border-radius: 50%;\n",
              "      cursor: pointer;\n",
              "      display: none;\n",
              "      fill: #1967D2;\n",
              "      height: 32px;\n",
              "      padding: 0 0 0 0;\n",
              "      width: 32px;\n",
              "    }\n",
              "\n",
              "    .colab-df-convert:hover {\n",
              "      background-color: #E2EBFA;\n",
              "      box-shadow: 0px 1px 2px rgba(60, 64, 67, 0.3), 0px 1px 3px 1px rgba(60, 64, 67, 0.15);\n",
              "      fill: #174EA6;\n",
              "    }\n",
              "\n",
              "    [theme=dark] .colab-df-convert {\n",
              "      background-color: #3B4455;\n",
              "      fill: #D2E3FC;\n",
              "    }\n",
              "\n",
              "    [theme=dark] .colab-df-convert:hover {\n",
              "      background-color: #434B5C;\n",
              "      box-shadow: 0px 1px 3px 1px rgba(0, 0, 0, 0.15);\n",
              "      filter: drop-shadow(0px 1px 2px rgba(0, 0, 0, 0.3));\n",
              "      fill: #FFFFFF;\n",
              "    }\n",
              "  </style>\n",
              "\n",
              "      <script>\n",
              "        const buttonEl =\n",
              "          document.querySelector('#df-35e10fe6-9d1b-4986-860c-2ea0e20156be button.colab-df-convert');\n",
              "        buttonEl.style.display =\n",
              "          google.colab.kernel.accessAllowed ? 'block' : 'none';\n",
              "\n",
              "        async function convertToInteractive(key) {\n",
              "          const element = document.querySelector('#df-35e10fe6-9d1b-4986-860c-2ea0e20156be');\n",
              "          const dataTable =\n",
              "            await google.colab.kernel.invokeFunction('convertToInteractive',\n",
              "                                                     [key], {});\n",
              "          if (!dataTable) return;\n",
              "\n",
              "          const docLinkHtml = 'Like what you see? Visit the ' +\n",
              "            '<a target=\"_blank\" href=https://colab.research.google.com/notebooks/data_table.ipynb>data table notebook</a>'\n",
              "            + ' to learn more about interactive tables.';\n",
              "          element.innerHTML = '';\n",
              "          dataTable['output_type'] = 'display_data';\n",
              "          await google.colab.output.renderOutput(dataTable, element);\n",
              "          const docLink = document.createElement('div');\n",
              "          docLink.innerHTML = docLinkHtml;\n",
              "          element.appendChild(docLink);\n",
              "        }\n",
              "      </script>\n",
              "    </div>\n",
              "  </div>\n",
              "  "
            ]
          },
          "metadata": {},
          "execution_count": 7
        }
      ]
    },
    {
      "cell_type": "code",
      "source": [
        "df.drop(columns=[\"Sex\"],inplace = True)"
      ],
      "metadata": {
        "id": "NBaGMuxx4S33"
      },
      "execution_count": 8,
      "outputs": []
    },
    {
      "cell_type": "code",
      "source": [
        "df.tail()"
      ],
      "metadata": {
        "colab": {
          "base_uri": "https://localhost:8080/",
          "height": 206
        },
        "id": "ITIQZ3c-4W63",
        "outputId": "f310fff9-88e2-4ba7-9672-6f75e9a985f8"
      },
      "execution_count": 9,
      "outputs": [
        {
          "output_type": "execute_result",
          "data": {
            "text/plain": [
              "      Length  Diameter  Height  Whole weight  Shucked weight  Viscera weight  \\\n",
              "4172   0.565     0.450   0.165        0.8870          0.3700          0.2390   \n",
              "4173   0.590     0.440   0.135        0.9660          0.4390          0.2145   \n",
              "4174   0.600     0.475   0.205        1.1760          0.5255          0.2875   \n",
              "4175   0.625     0.485   0.150        1.0945          0.5310          0.2610   \n",
              "4176   0.710     0.555   0.195        1.9485          0.9455          0.3765   \n",
              "\n",
              "      Shell weight  Rings  \n",
              "4172        0.2490     11  \n",
              "4173        0.2605     10  \n",
              "4174        0.3080      9  \n",
              "4175        0.2960     10  \n",
              "4176        0.4950     12  "
            ],
            "text/html": [
              "\n",
              "  <div id=\"df-ca0ca03f-ed3f-4bb4-b192-12cf34fe6828\">\n",
              "    <div class=\"colab-df-container\">\n",
              "      <div>\n",
              "<style scoped>\n",
              "    .dataframe tbody tr th:only-of-type {\n",
              "        vertical-align: middle;\n",
              "    }\n",
              "\n",
              "    .dataframe tbody tr th {\n",
              "        vertical-align: top;\n",
              "    }\n",
              "\n",
              "    .dataframe thead th {\n",
              "        text-align: right;\n",
              "    }\n",
              "</style>\n",
              "<table border=\"1\" class=\"dataframe\">\n",
              "  <thead>\n",
              "    <tr style=\"text-align: right;\">\n",
              "      <th></th>\n",
              "      <th>Length</th>\n",
              "      <th>Diameter</th>\n",
              "      <th>Height</th>\n",
              "      <th>Whole weight</th>\n",
              "      <th>Shucked weight</th>\n",
              "      <th>Viscera weight</th>\n",
              "      <th>Shell weight</th>\n",
              "      <th>Rings</th>\n",
              "    </tr>\n",
              "  </thead>\n",
              "  <tbody>\n",
              "    <tr>\n",
              "      <th>4172</th>\n",
              "      <td>0.565</td>\n",
              "      <td>0.450</td>\n",
              "      <td>0.165</td>\n",
              "      <td>0.8870</td>\n",
              "      <td>0.3700</td>\n",
              "      <td>0.2390</td>\n",
              "      <td>0.2490</td>\n",
              "      <td>11</td>\n",
              "    </tr>\n",
              "    <tr>\n",
              "      <th>4173</th>\n",
              "      <td>0.590</td>\n",
              "      <td>0.440</td>\n",
              "      <td>0.135</td>\n",
              "      <td>0.9660</td>\n",
              "      <td>0.4390</td>\n",
              "      <td>0.2145</td>\n",
              "      <td>0.2605</td>\n",
              "      <td>10</td>\n",
              "    </tr>\n",
              "    <tr>\n",
              "      <th>4174</th>\n",
              "      <td>0.600</td>\n",
              "      <td>0.475</td>\n",
              "      <td>0.205</td>\n",
              "      <td>1.1760</td>\n",
              "      <td>0.5255</td>\n",
              "      <td>0.2875</td>\n",
              "      <td>0.3080</td>\n",
              "      <td>9</td>\n",
              "    </tr>\n",
              "    <tr>\n",
              "      <th>4175</th>\n",
              "      <td>0.625</td>\n",
              "      <td>0.485</td>\n",
              "      <td>0.150</td>\n",
              "      <td>1.0945</td>\n",
              "      <td>0.5310</td>\n",
              "      <td>0.2610</td>\n",
              "      <td>0.2960</td>\n",
              "      <td>10</td>\n",
              "    </tr>\n",
              "    <tr>\n",
              "      <th>4176</th>\n",
              "      <td>0.710</td>\n",
              "      <td>0.555</td>\n",
              "      <td>0.195</td>\n",
              "      <td>1.9485</td>\n",
              "      <td>0.9455</td>\n",
              "      <td>0.3765</td>\n",
              "      <td>0.4950</td>\n",
              "      <td>12</td>\n",
              "    </tr>\n",
              "  </tbody>\n",
              "</table>\n",
              "</div>\n",
              "      <button class=\"colab-df-convert\" onclick=\"convertToInteractive('df-ca0ca03f-ed3f-4bb4-b192-12cf34fe6828')\"\n",
              "              title=\"Convert this dataframe to an interactive table.\"\n",
              "              style=\"display:none;\">\n",
              "        \n",
              "  <svg xmlns=\"http://www.w3.org/2000/svg\" height=\"24px\"viewBox=\"0 0 24 24\"\n",
              "       width=\"24px\">\n",
              "    <path d=\"M0 0h24v24H0V0z\" fill=\"none\"/>\n",
              "    <path d=\"M18.56 5.44l.94 2.06.94-2.06 2.06-.94-2.06-.94-.94-2.06-.94 2.06-2.06.94zm-11 1L8.5 8.5l.94-2.06 2.06-.94-2.06-.94L8.5 2.5l-.94 2.06-2.06.94zm10 10l.94 2.06.94-2.06 2.06-.94-2.06-.94-.94-2.06-.94 2.06-2.06.94z\"/><path d=\"M17.41 7.96l-1.37-1.37c-.4-.4-.92-.59-1.43-.59-.52 0-1.04.2-1.43.59L10.3 9.45l-7.72 7.72c-.78.78-.78 2.05 0 2.83L4 21.41c.39.39.9.59 1.41.59.51 0 1.02-.2 1.41-.59l7.78-7.78 2.81-2.81c.8-.78.8-2.07 0-2.86zM5.41 20L4 18.59l7.72-7.72 1.47 1.35L5.41 20z\"/>\n",
              "  </svg>\n",
              "      </button>\n",
              "      \n",
              "  <style>\n",
              "    .colab-df-container {\n",
              "      display:flex;\n",
              "      flex-wrap:wrap;\n",
              "      gap: 12px;\n",
              "    }\n",
              "\n",
              "    .colab-df-convert {\n",
              "      background-color: #E8F0FE;\n",
              "      border: none;\n",
              "      border-radius: 50%;\n",
              "      cursor: pointer;\n",
              "      display: none;\n",
              "      fill: #1967D2;\n",
              "      height: 32px;\n",
              "      padding: 0 0 0 0;\n",
              "      width: 32px;\n",
              "    }\n",
              "\n",
              "    .colab-df-convert:hover {\n",
              "      background-color: #E2EBFA;\n",
              "      box-shadow: 0px 1px 2px rgba(60, 64, 67, 0.3), 0px 1px 3px 1px rgba(60, 64, 67, 0.15);\n",
              "      fill: #174EA6;\n",
              "    }\n",
              "\n",
              "    [theme=dark] .colab-df-convert {\n",
              "      background-color: #3B4455;\n",
              "      fill: #D2E3FC;\n",
              "    }\n",
              "\n",
              "    [theme=dark] .colab-df-convert:hover {\n",
              "      background-color: #434B5C;\n",
              "      box-shadow: 0px 1px 3px 1px rgba(0, 0, 0, 0.15);\n",
              "      filter: drop-shadow(0px 1px 2px rgba(0, 0, 0, 0.3));\n",
              "      fill: #FFFFFF;\n",
              "    }\n",
              "  </style>\n",
              "\n",
              "      <script>\n",
              "        const buttonEl =\n",
              "          document.querySelector('#df-ca0ca03f-ed3f-4bb4-b192-12cf34fe6828 button.colab-df-convert');\n",
              "        buttonEl.style.display =\n",
              "          google.colab.kernel.accessAllowed ? 'block' : 'none';\n",
              "\n",
              "        async function convertToInteractive(key) {\n",
              "          const element = document.querySelector('#df-ca0ca03f-ed3f-4bb4-b192-12cf34fe6828');\n",
              "          const dataTable =\n",
              "            await google.colab.kernel.invokeFunction('convertToInteractive',\n",
              "                                                     [key], {});\n",
              "          if (!dataTable) return;\n",
              "\n",
              "          const docLinkHtml = 'Like what you see? Visit the ' +\n",
              "            '<a target=\"_blank\" href=https://colab.research.google.com/notebooks/data_table.ipynb>data table notebook</a>'\n",
              "            + ' to learn more about interactive tables.';\n",
              "          element.innerHTML = '';\n",
              "          dataTable['output_type'] = 'display_data';\n",
              "          await google.colab.output.renderOutput(dataTable, element);\n",
              "          const docLink = document.createElement('div');\n",
              "          docLink.innerHTML = docLinkHtml;\n",
              "          element.appendChild(docLink);\n",
              "        }\n",
              "      </script>\n",
              "    </div>\n",
              "  </div>\n",
              "  "
            ]
          },
          "metadata": {},
          "execution_count": 9
        }
      ]
    },
    {
      "cell_type": "markdown",
      "source": [
        " **3.PERFORM BELOW VISUALIZATION**"
      ],
      "metadata": {
        "id": "0TXwWFAM5YDV"
      }
    },
    {
      "cell_type": "markdown",
      "source": [
        "**UNIVARIATE**"
      ],
      "metadata": {
        "id": "MOLGgAzD5ijB"
      }
    },
    {
      "cell_type": "code",
      "source": [
        "sns.distplot(df['Viscera weight'])"
      ],
      "metadata": {
        "colab": {
          "base_uri": "https://localhost:8080/",
          "height": 296
        },
        "id": "K7FPMuo14a89",
        "outputId": "1e1d8f86-ddbf-4477-ba9f-8ecbbbd04f38"
      },
      "execution_count": 10,
      "outputs": [
        {
          "output_type": "execute_result",
          "data": {
            "text/plain": [
              "<matplotlib.axes._subplots.AxesSubplot at 0x7f6204c84d10>"
            ]
          },
          "metadata": {},
          "execution_count": 10
        },
        {
          "output_type": "display_data",
          "data": {
            "text/plain": [
              "<Figure size 432x288 with 1 Axes>"
            ],
            "image/png": "[encoded data removed]"
          },
          "metadata": {
            "needs_background": "light"
          }
        }
      ]
    },
    {
      "cell_type": "code",
      "source": [
        "sns.boxplot(df[\"Height\"])"
      ],
      "metadata": {
        "colab": {
          "base_uri": "https://localhost:8080/",
          "height": 296
        },
        "id": "8NYXBUqL5uwf",
        "outputId": "f5590f1a-19af-48dc-a306-ff08ae4fc562"
      },
      "execution_count": 11,
      "outputs": [
        {
          "output_type": "execute_result",
          "data": {
            "text/plain": [
              "<matplotlib.axes._subplots.AxesSubplot at 0x7f6204be4490>"
            ]
          },
          "metadata": {},
          "execution_count": 11
        },
        {
          "output_type": "display_data",
          "data": {
            "text/plain": [
              "<Figure size 432x288 with 1 Axes>"
            ],
            "image/png": "[encoded data removed]"
          },
          "metadata": {
            "needs_background": "light"
          }
        }
      ]
    },
    {
      "cell_type": "markdown",
      "source": [
        "**BI-VARIATE ANALYSIS**"
      ],
      "metadata": {
        "id": "vL8NIPKg7I3y"
      }
    },
    {
      "cell_type": "code",
      "source": [
        "sns.scatterplot(df.Diameter,df.Length)"
      ],
      "metadata": {
        "colab": {
          "base_uri": "https://localhost:8080/",
          "height": 296
        },
        "id": "pgJHYKcT6ZAt",
        "outputId": "fe486d39-d2da-49a3-8a70-92fa4430e41e"
      },
      "execution_count": 12,
      "outputs": [
        {
          "output_type": "execute_result",
          "data": {
            "text/plain": [
              "<matplotlib.axes._subplots.AxesSubplot at 0x7f6203d18250>"
            ]
          },
          "metadata": {},
          "execution_count": 12
        },
        {
          "output_type": "display_data",
          "data": {
            "text/plain": [
              "<Figure size 432x288 with 1 Axes>"
            ],
            "image/png": "[encoded data removed]"
          },
          "metadata": {
            "needs_background": "light"
          }
        }
      ]
    },
    {
      "cell_type": "markdown",
      "source": [
        "**MULTIVARIATE ANALYSIS**"
      ],
      "metadata": {
        "id": "JMv5lQK77Vvr"
      }
    },
    {
      "cell_type": "code",
      "source": [
        "sns.lineplot(df['Height'],df['Length'])"
      ],
      "metadata": {
        "colab": {
          "base_uri": "https://localhost:8080/",
          "height": 296
        },
        "id": "xVIJxDC87Rug",
        "outputId": "bc747332-fd83-421a-aba2-4eeec360ec84"
      },
      "execution_count": 13,
      "outputs": [
        {
          "output_type": "execute_result",
          "data": {
            "text/plain": [
              "<matplotlib.axes._subplots.AxesSubplot at 0x7f6203c95310>"
            ]
          },
          "metadata": {},
          "execution_count": 13
        },
        {
          "output_type": "display_data",
          "data": {
            "text/plain": [
              "<Figure size 432x288 with 1 Axes>"
            ],
            "image/png": "[encoded data removed]"
          },
          "metadata": {
            "needs_background": "light"
          }
        }
      ]
    },
    {
      "cell_type": "markdown",
      "source": [
        "**4.PERFORM DESCRIPTIVE STATISTICS ON THE DATASET**"
      ],
      "metadata": {
        "id": "DWYkgZuV7iGk"
      }
    },
    {
      "cell_type": "code",
      "source": [
        "df.describe()"
      ],
      "metadata": {
        "colab": {
          "base_uri": "https://localhost:8080/",
          "height": 300
        },
        "id": "vhrsLDNo7c7A",
        "outputId": "2cbf5950-f16c-4f0b-dbe3-d865a0471705"
      },
      "execution_count": 14,
      "outputs": [
        {
          "output_type": "execute_result",
          "data": {
            "text/plain": [
              "            Length     Diameter       Height  Whole weight  Shucked weight  \\\n",
              "count  4177.000000  4177.000000  4177.000000   4177.000000     4177.000000   \n",
              "mean      0.523992     0.407881     0.139516      0.828742        0.359367   \n",
              "std       0.120093     0.099240     0.041827      0.490389        0.221963   \n",
              "min       0.075000     0.055000     0.000000      0.002000        0.001000   \n",
              "25%       0.450000     0.350000     0.115000      0.441500        0.186000   \n",
              "50%       0.545000     0.425000     0.140000      0.799500        0.336000   \n",
              "75%       0.615000     0.480000     0.165000      1.153000        0.502000   \n",
              "max       0.815000     0.650000     1.130000      2.825500        1.488000   \n",
              "\n",
              "       Viscera weight  Shell weight        Rings  \n",
              "count     4177.000000   4177.000000  4177.000000  \n",
              "mean         0.180594      0.238831     9.933684  \n",
              "std          0.109614      0.139203     3.224169  \n",
              "min          0.000500      0.001500     1.000000  \n",
              "25%          0.093500      0.130000     8.000000  \n",
              "50%          0.171000      0.234000     9.000000  \n",
              "75%          0.253000      0.329000    11.000000  \n",
              "max          0.760000      1.005000    29.000000  "
            ],
            "text/html": [
              "\n",
              "  <div id=\"df-447a1d2e-eaff-4f78-8c6d-5f7cfea91965\">\n",
              "    <div class=\"colab-df-container\">\n",
              "      <div>\n",
              "<style scoped>\n",
              "    .dataframe tbody tr th:only-of-type {\n",
              "        vertical-align: middle;\n",
              "    }\n",
              "\n",
              "    .dataframe tbody tr th {\n",
              "        vertical-align: top;\n",
              "    }\n",
              "\n",
              "    .dataframe thead th {\n",
              "        text-align: right;\n",
              "    }\n",
              "</style>\n",
              "<table border=\"1\" class=\"dataframe\">\n",
              "  <thead>\n",
              "    <tr style=\"text-align: right;\">\n",
              "      <th></th>\n",
              "      <th>Length</th>\n",
              "      <th>Diameter</th>\n",
              "      <th>Height</th>\n",
              "      <th>Whole weight</th>\n",
              "      <th>Shucked weight</th>\n",
              "      <th>Viscera weight</th>\n",
              "      <th>Shell weight</th>\n",
              "      <th>Rings</th>\n",
              "    </tr>\n",
              "  </thead>\n",
              "  <tbody>\n",
              "    <tr>\n",
              "      <th>count</th>\n",
              "      <td>4177.000000</td>\n",
              "      <td>4177.000000</td>\n",
              "      <td>4177.000000</td>\n",
              "      <td>4177.000000</td>\n",
              "      <td>4177.000000</td>\n",
              "      <td>4177.000000</td>\n",
              "      <td>4177.000000</td>\n",
              "      <td>4177.000000</td>\n",
              "    </tr>\n",
              "    <tr>\n",
              "      <th>mean</th>\n",
              "      <td>0.523992</td>\n",
              "      <td>0.407881</td>\n",
              "      <td>0.139516</td>\n",
              "      <td>0.828742</td>\n",
              "      <td>0.359367</td>\n",
              "      <td>0.180594</td>\n",
              "      <td>0.238831</td>\n",
              "      <td>9.933684</td>\n",
              "    </tr>\n",
              "    <tr>\n",
              "      <th>std</th>\n",
              "      <td>0.120093</td>\n",
              "      <td>0.099240</td>\n",
              "      <td>0.041827</td>\n",
              "      <td>0.490389</td>\n",
              "      <td>0.221963</td>\n",
              "      <td>0.109614</td>\n",
              "      <td>0.139203</td>\n",
              "      <td>3.224169</td>\n",
              "    </tr>\n",
              "    <tr>\n",
              "      <th>min</th>\n",
              "      <td>0.075000</td>\n",
              "      <td>0.055000</td>\n",
              "      <td>0.000000</td>\n",
              "      <td>0.002000</td>\n",
              "      <td>0.001000</td>\n",
              "      <td>0.000500</td>\n",
              "      <td>0.001500</td>\n",
              "      <td>1.000000</td>\n",
              "    </tr>\n",
              "    <tr>\n",
              "      <th>25%</th>\n",
              "      <td>0.450000</td>\n",
              "      <td>0.350000</td>\n",
              "      <td>0.115000</td>\n",
              "      <td>0.441500</td>\n",
              "      <td>0.186000</td>\n",
              "      <td>0.093500</td>\n",
              "      <td>0.130000</td>\n",
              "      <td>8.000000</td>\n",
              "    </tr>\n",
              "    <tr>\n",
              "      <th>50%</th>\n",
              "      <td>0.545000</td>\n",
              "      <td>0.425000</td>\n",
              "      <td>0.140000</td>\n",
              "      <td>0.799500</td>\n",
              "      <td>0.336000</td>\n",
              "      <td>0.171000</td>\n",
              "      <td>0.234000</td>\n",
              "      <td>9.000000</td>\n",
              "    </tr>\n",
              "    <tr>\n",
              "      <th>75%</th>\n",
              "      <td>0.615000</td>\n",
              "      <td>0.480000</td>\n",
              "      <td>0.165000</td>\n",
              "      <td>1.153000</td>\n",
              "      <td>0.502000</td>\n",
              "      <td>0.253000</td>\n",
              "      <td>0.329000</td>\n",
              "      <td>11.000000</td>\n",
              "    </tr>\n",
              "    <tr>\n",
              "      <th>max</th>\n",
              "      <td>0.815000</td>\n",
              "      <td>0.650000</td>\n",
              "      <td>1.130000</td>\n",
              "      <td>2.825500</td>\n",
              "      <td>1.488000</td>\n",
              "      <td>0.760000</td>\n",
              "      <td>1.005000</td>\n",
              "      <td>29.000000</td>\n",
              "    </tr>\n",
              "  </tbody>\n",
              "</table>\n",
              "</div>\n",
              "      <button class=\"colab-df-convert\" onclick=\"convertToInteractive('df-447a1d2e-eaff-4f78-8c6d-5f7cfea91965')\"\n",
              "              title=\"Convert this dataframe to an interactive table.\"\n",
              "              style=\"display:none;\">\n",
              "        \n",
              "  <svg xmlns=\"http://www.w3.org/2000/svg\" height=\"24px\"viewBox=\"0 0 24 24\"\n",
              "       width=\"24px\">\n",
              "    <path d=\"M0 0h24v24H0V0z\" fill=\"none\"/>\n",
              "    <path d=\"M18.56 5.44l.94 2.06.94-2.06 2.06-.94-2.06-.94-.94-2.06-.94 2.06-2.06.94zm-11 1L8.5 8.5l.94-2.06 2.06-.94-2.06-.94L8.5 2.5l-.94 2.06-2.06.94zm10 10l.94 2.06.94-2.06 2.06-.94-2.06-.94-.94-2.06-.94 2.06-2.06.94z\"/><path d=\"M17.41 7.96l-1.37-1.37c-.4-.4-.92-.59-1.43-.59-.52 0-1.04.2-1.43.59L10.3 9.45l-7.72 7.72c-.78.78-.78 2.05 0 2.83L4 21.41c.39.39.9.59 1.41.59.51 0 1.02-.2 1.41-.59l7.78-7.78 2.81-2.81c.8-.78.8-2.07 0-2.86zM5.41 20L4 18.59l7.72-7.72 1.47 1.35L5.41 20z\"/>\n",
              "  </svg>\n",
              "      </button>\n",
              "      \n",
              "  <style>\n",
              "    .colab-df-container {\n",
              "      display:flex;\n",
              "      flex-wrap:wrap;\n",
              "      gap: 12px;\n",
              "    }\n",
              "\n",
              "    .colab-df-convert {\n",
              "      background-color: #E8F0FE;\n",
              "      border: none;\n",
              "      border-radius: 50%;\n",
              "      cursor: pointer;\n",
              "      display: none;\n",
              "      fill: #1967D2;\n",
              "      height: 32px;\n",
              "      padding: 0 0 0 0;\n",
              "      width: 32px;\n",
              "    }\n",
              "\n",
              "    .colab-df-convert:hover {\n",
              "      background-color: #E2EBFA;\n",
              "      box-shadow: 0px 1px 2px rgba(60, 64, 67, 0.3), 0px 1px 3px 1px rgba(60, 64, 67, 0.15);\n",
              "      fill: #174EA6;\n",
              "    }\n",
              "\n",
              "    [theme=dark] .colab-df-convert {\n",
              "      background-color: #3B4455;\n",
              "      fill: #D2E3FC;\n",
              "    }\n",
              "\n",
              "    [theme=dark] .colab-df-convert:hover {\n",
              "      background-color: #434B5C;\n",
              "      box-shadow: 0px 1px 3px 1px rgba(0, 0, 0, 0.15);\n",
              "      filter: drop-shadow(0px 1px 2px rgba(0, 0, 0, 0.3));\n",
              "      fill: #FFFFFF;\n",
              "    }\n",
              "  </style>\n",
              "\n",
              "      <script>\n",
              "        const buttonEl =\n",
              "          document.querySelector('#df-447a1d2e-eaff-4f78-8c6d-5f7cfea91965 button.colab-df-convert');\n",
              "        buttonEl.style.display =\n",
              "          google.colab.kernel.accessAllowed ? 'block' : 'none';\n",
              "\n",
              "        async function convertToInteractive(key) {\n",
              "          const element = document.querySelector('#df-447a1d2e-eaff-4f78-8c6d-5f7cfea91965');\n",
              "          const dataTable =\n",
              "            await google.colab.kernel.invokeFunction('convertToInteractive',\n",
              "                                                     [key], {});\n",
              "          if (!dataTable) return;\n",
              "\n",
              "          const docLinkHtml = 'Like what you see? Visit the ' +\n",
              "            '<a target=\"_blank\" href=https://colab.research.google.com/notebooks/data_table.ipynb>data table notebook</a>'\n",
              "            + ' to learn more about interactive tables.';\n",
              "          element.innerHTML = '';\n",
              "          dataTable['output_type'] = 'display_data';\n",
              "          await google.colab.output.renderOutput(dataTable, element);\n",
              "          const docLink = document.createElement('div');\n",
              "          docLink.innerHTML = docLinkHtml;\n",
              "          element.appendChild(docLink);\n",
              "        }\n",
              "      </script>\n",
              "    </div>\n",
              "  </div>\n",
              "  "
            ]
          },
          "metadata": {},
          "execution_count": 14
        }
      ]
    },
    {
      "cell_type": "code",
      "source": [
        "df.skew()"
      ],
      "metadata": {
        "colab": {
          "base_uri": "https://localhost:8080/"
        },
        "id": "oih879xH7t1K",
        "outputId": "ef4f4fce-12d7-4bfe-ebf9-08e8a4a4b4fc"
      },
      "execution_count": 15,
      "outputs": [
        {
          "output_type": "execute_result",
          "data": {
            "text/plain": [
              "Length           -0.639873\n",
              "Diameter         -0.609198\n",
              "Height            3.128817\n",
              "Whole weight      0.530959\n",
              "Shucked weight    0.719098\n",
              "Viscera weight    0.591852\n",
              "Shell weight      0.620927\n",
              "Rings             1.114102\n",
              "dtype: float64"
            ]
          },
          "metadata": {},
          "execution_count": 15
        }
      ]
    },
    {
      "cell_type": "code",
      "source": [
        "print(\"Mean:\",df['Rings'].mean())\n",
        "print(\"Median:\",df['Rings'].median())\n",
        "print(\"Mode:\",df['Rings'].mode())\n",
        "print(\"Standard Deviation\",df['Rings'].std())\n",
        "df.kurtosis()"
      ],
      "metadata": {
        "colab": {
          "base_uri": "https://localhost:8080/"
        },
        "id": "XpoxPaP47wbn",
        "outputId": "5c4918a4-eef2-4518-e250-643972be02dc"
      },
      "execution_count": 16,
      "outputs": [
        {
          "output_type": "stream",
          "name": "stdout",
          "text": [
            "Mean: 9.933684462532918\n",
            "Median: 9.0\n",
            "Mode: 0    9\n",
            "dtype: int64\n",
            "Standard Deviation 3.2241690320681284\n"
          ]
        },
        {
          "output_type": "execute_result",
          "data": {
            "text/plain": [
              "Length             0.064621\n",
              "Diameter          -0.045476\n",
              "Height            76.025509\n",
              "Whole weight      -0.023644\n",
              "Shucked weight     0.595124\n",
              "Viscera weight     0.084012\n",
              "Shell weight       0.531926\n",
              "Rings              2.330687\n",
              "dtype: float64"
            ]
          },
          "metadata": {},
          "execution_count": 16
        }
      ]
    },
    {
      "cell_type": "markdown",
      "source": [
        "**5.CHECKING FOR MISSING VALUES AND DEAL WITH THEM**"
      ],
      "metadata": {
        "id": "DE07PkR974hn"
      }
    },
    {
      "cell_type": "code",
      "source": [
        "df.isnull().any()"
      ],
      "metadata": {
        "colab": {
          "base_uri": "https://localhost:8080/"
        },
        "id": "uDDOHUb570Wh",
        "outputId": "2f51f869-b9b2-465e-9998-24c3ef10698b"
      },
      "execution_count": 17,
      "outputs": [
        {
          "output_type": "execute_result",
          "data": {
            "text/plain": [
              "Length            False\n",
              "Diameter          False\n",
              "Height            False\n",
              "Whole weight      False\n",
              "Shucked weight    False\n",
              "Viscera weight    False\n",
              "Shell weight      False\n",
              "Rings             False\n",
              "dtype: bool"
            ]
          },
          "metadata": {},
          "execution_count": 17
        }
      ]
    },
    {
      "cell_type": "code",
      "source": [
        "df.isnull().sum()"
      ],
      "metadata": {
        "colab": {
          "base_uri": "https://localhost:8080/"
        },
        "id": "TzK20jDl8Ee_",
        "outputId": "4c58ebea-21e7-4389-8e9c-2db6de85b851"
      },
      "execution_count": 18,
      "outputs": [
        {
          "output_type": "execute_result",
          "data": {
            "text/plain": [
              "Length            0\n",
              "Diameter          0\n",
              "Height            0\n",
              "Whole weight      0\n",
              "Shucked weight    0\n",
              "Viscera weight    0\n",
              "Shell weight      0\n",
              "Rings             0\n",
              "dtype: int64"
            ]
          },
          "metadata": {},
          "execution_count": 18
        }
      ]
    },
    {
      "cell_type": "markdown",
      "source": [
        "**6.FIND THE OUTLIERS AND REPLACE THE OUTLIERS**"
      ],
      "metadata": {
        "id": "YWj44B4y8ORY"
      }
    },
    {
      "cell_type": "code",
      "source": [
        "sns.boxplot(df.Length)"
      ],
      "metadata": {
        "colab": {
          "base_uri": "https://localhost:8080/",
          "height": 296
        },
        "id": "-ZOIPRzg8K84",
        "outputId": "eae48ac1-d883-4cc7-d94e-6af94e844f68"
      },
      "execution_count": 19,
      "outputs": [
        {
          "output_type": "execute_result",
          "data": {
            "text/plain": [
              "<matplotlib.axes._subplots.AxesSubplot at 0x7f6203c3ed10>"
            ]
          },
          "metadata": {},
          "execution_count": 19
        },
        {
          "output_type": "display_data",
          "data": {
            "text/plain": [
              "<Figure size 432x288 with 1 Axes>"
            ],
            "image/png": "[encoded data removed]"
          },
          "metadata": {
            "needs_background": "light"
          }
        }
      ]
    },
    {
      "cell_type": "code",
      "source": [
        "sns.boxplot(df.Diameter)\n"
      ],
      "metadata": {
        "colab": {
          "base_uri": "https://localhost:8080/",
          "height": 296
        },
        "id": "BEUGnnct8a6K",
        "outputId": "5ccd3e42-c8bf-4c05-9c43-91597ae5dfad"
      },
      "execution_count": 20,
      "outputs": [
        {
          "output_type": "execute_result",
          "data": {
            "text/plain": [
              "<matplotlib.axes._subplots.AxesSubplot at 0x7f6203bc6110>"
            ]
          },
          "metadata": {},
          "execution_count": 20
        },
        {
          "output_type": "display_data",
          "data": {
            "text/plain": [
              "<Figure size 432x288 with 1 Axes>"
            ],
            "image/png": "[encoded data removed]"
          },
          "metadata": {
            "needs_background": "light"
          }
        }
      ]
    },
    {
      "cell_type": "code",
      "source": [
        "iq=df.quantile(q=[0.75,0.25])\n",
        "iq\n"
      ],
      "metadata": {
        "colab": {
          "base_uri": "https://localhost:8080/",
          "height": 112
        },
        "id": "4sJGl0Pm8fG8",
        "outputId": "7e3953b3-d2b4-41fa-92d8-68dc4008c6d2"
      },
      "execution_count": 21,
      "outputs": [
        {
          "output_type": "execute_result",
          "data": {
            "text/plain": [
              "      Length  Diameter  Height  Whole weight  Shucked weight  Viscera weight  \\\n",
              "0.75   0.615      0.48   0.165        1.1530           0.502          0.2530   \n",
              "0.25   0.450      0.35   0.115        0.4415           0.186          0.0935   \n",
              "\n",
              "      Shell weight  Rings  \n",
              "0.75         0.329   11.0  \n",
              "0.25         0.130    8.0  "
            ],
            "text/html": [
              "\n",
              "  <div id=\"df-d3539265-81d2-471f-aa53-b36ecf001c05\">\n",
              "    <div class=\"colab-df-container\">\n",
              "      <div>\n",
              "<style scoped>\n",
              "    .dataframe tbody tr th:only-of-type {\n",
              "        vertical-align: middle;\n",
              "    }\n",
              "\n",
              "    .dataframe tbody tr th {\n",
              "        vertical-align: top;\n",
              "    }\n",
              "\n",
              "    .dataframe thead th {\n",
              "        text-align: right;\n",
              "    }\n",
              "</style>\n",
              "<table border=\"1\" class=\"dataframe\">\n",
              "  <thead>\n",
              "    <tr style=\"text-align: right;\">\n",
              "      <th></th>\n",
              "      <th>Length</th>\n",
              "      <th>Diameter</th>\n",
              "      <th>Height</th>\n",
              "      <th>Whole weight</th>\n",
              "      <th>Shucked weight</th>\n",
              "      <th>Viscera weight</th>\n",
              "      <th>Shell weight</th>\n",
              "      <th>Rings</th>\n",
              "    </tr>\n",
              "  </thead>\n",
              "  <tbody>\n",
              "    <tr>\n",
              "      <th>0.75</th>\n",
              "      <td>0.615</td>\n",
              "      <td>0.48</td>\n",
              "      <td>0.165</td>\n",
              "      <td>1.1530</td>\n",
              "      <td>0.502</td>\n",
              "      <td>0.2530</td>\n",
              "      <td>0.329</td>\n",
              "      <td>11.0</td>\n",
              "    </tr>\n",
              "    <tr>\n",
              "      <th>0.25</th>\n",
              "      <td>0.450</td>\n",
              "      <td>0.35</td>\n",
              "      <td>0.115</td>\n",
              "      <td>0.4415</td>\n",
              "      <td>0.186</td>\n",
              "      <td>0.0935</td>\n",
              "      <td>0.130</td>\n",
              "      <td>8.0</td>\n",
              "    </tr>\n",
              "  </tbody>\n",
              "</table>\n",
              "</div>\n",
              "      <button class=\"colab-df-convert\" onclick=\"convertToInteractive('df-d3539265-81d2-471f-aa53-b36ecf001c05')\"\n",
              "              title=\"Convert this dataframe to an interactive table.\"\n",
              "              style=\"display:none;\">\n",
              "        \n",
              "  <svg xmlns=\"http://www.w3.org/2000/svg\" height=\"24px\"viewBox=\"0 0 24 24\"\n",
              "       width=\"24px\">\n",
              "    <path d=\"M0 0h24v24H0V0z\" fill=\"none\"/>\n",
              "    <path d=\"M18.56 5.44l.94 2.06.94-2.06 2.06-.94-2.06-.94-.94-2.06-.94 2.06-2.06.94zm-11 1L8.5 8.5l.94-2.06 2.06-.94-2.06-.94L8.5 2.5l-.94 2.06-2.06.94zm10 10l.94 2.06.94-2.06 2.06-.94-2.06-.94-.94-2.06-.94 2.06-2.06.94z\"/><path d=\"M17.41 7.96l-1.37-1.37c-.4-.4-.92-.59-1.43-.59-.52 0-1.04.2-1.43.59L10.3 9.45l-7.72 7.72c-.78.78-.78 2.05 0 2.83L4 21.41c.39.39.9.59 1.41.59.51 0 1.02-.2 1.41-.59l7.78-7.78 2.81-2.81c.8-.78.8-2.07 0-2.86zM5.41 20L4 18.59l7.72-7.72 1.47 1.35L5.41 20z\"/>\n",
              "  </svg>\n",
              "      </button>\n",
              "      \n",
              "  <style>\n",
              "    .colab-df-container {\n",
              "      display:flex;\n",
              "      flex-wrap:wrap;\n",
              "      gap: 12px;\n",
              "    }\n",
              "\n",
              "    .colab-df-convert {\n",
              "      background-color: #E8F0FE;\n",
              "      border: none;\n",
              "      border-radius: 50%;\n",
              "      cursor: pointer;\n",
              "      display: none;\n",
              "      fill: #1967D2;\n",
              "      height: 32px;\n",
              "      padding: 0 0 0 0;\n",
              "      width: 32px;\n",
              "    }\n",
              "\n",
              "    .colab-df-convert:hover {\n",
              "      background-color: #E2EBFA;\n",
              "      box-shadow: 0px 1px 2px rgba(60, 64, 67, 0.3), 0px 1px 3px 1px rgba(60, 64, 67, 0.15);\n",
              "      fill: #174EA6;\n",
              "    }\n",
              "\n",
              "    [theme=dark] .colab-df-convert {\n",
              "      background-color: #3B4455;\n",
              "      fill: #D2E3FC;\n",
              "    }\n",
              "\n",
              "    [theme=dark] .colab-df-convert:hover {\n",
              "      background-color: #434B5C;\n",
              "      box-shadow: 0px 1px 3px 1px rgba(0, 0, 0, 0.15);\n",
              "      filter: drop-shadow(0px 1px 2px rgba(0, 0, 0, 0.3));\n",
              "      fill: #FFFFFF;\n",
              "    }\n",
              "  </style>\n",
              "\n",
              "      <script>\n",
              "        const buttonEl =\n",
              "          document.querySelector('#df-d3539265-81d2-471f-aa53-b36ecf001c05 button.colab-df-convert');\n",
              "        buttonEl.style.display =\n",
              "          google.colab.kernel.accessAllowed ? 'block' : 'none';\n",
              "\n",
              "        async function convertToInteractive(key) {\n",
              "          const element = document.querySelector('#df-d3539265-81d2-471f-aa53-b36ecf001c05');\n",
              "          const dataTable =\n",
              "            await google.colab.kernel.invokeFunction('convertToInteractive',\n",
              "                                                     [key], {});\n",
              "          if (!dataTable) return;\n",
              "\n",
              "          const docLinkHtml = 'Like what you see? Visit the ' +\n",
              "            '<a target=\"_blank\" href=https://colab.research.google.com/notebooks/data_table.ipynb>data table notebook</a>'\n",
              "            + ' to learn more about interactive tables.';\n",
              "          element.innerHTML = '';\n",
              "          dataTable['output_type'] = 'display_data';\n",
              "          await google.colab.output.renderOutput(dataTable, element);\n",
              "          const docLink = document.createElement('div');\n",
              "          docLink.innerHTML = docLinkHtml;\n",
              "          element.appendChild(docLink);\n",
              "        }\n",
              "      </script>\n",
              "    </div>\n",
              "  </div>\n",
              "  "
            ]
          },
          "metadata": {},
          "execution_count": 21
        }
      ]
    },
    {
      "cell_type": "code",
      "source": [
        "iq.iloc[0]\n",
        "iq.iloc[1]\n",
        "IQR = iq.iloc[0] - iq.iloc[1]\n",
        "upper_extrem = iq.iloc[0] + ( 1.5 * IQR)  \n",
        "lower_extrem = iq.iloc[1] - ( 1.5 * IQR)   \n",
        "upper_extrem"
      ],
      "metadata": {
        "colab": {
          "base_uri": "https://localhost:8080/"
        },
        "id": "3zdbJu8t8iDy",
        "outputId": "ea693a20-9d36-4056-c85d-a8df2b891e40"
      },
      "execution_count": 22,
      "outputs": [
        {
          "output_type": "execute_result",
          "data": {
            "text/plain": [
              "Length             0.86250\n",
              "Diameter           0.67500\n",
              "Height             0.24000\n",
              "Whole weight       2.22025\n",
              "Shucked weight     0.97600\n",
              "Viscera weight     0.49225\n",
              "Shell weight       0.62750\n",
              "Rings             15.50000\n",
              "dtype: float64"
            ]
          },
          "metadata": {},
          "execution_count": 22
        }
      ]
    },
    {
      "cell_type": "code",
      "source": [
        "lower_extrem"
      ],
      "metadata": {
        "colab": {
          "base_uri": "https://localhost:8080/"
        },
        "id": "7yTKIXWC8k0r",
        "outputId": "36283aad-b00c-4d48-f370-03b98b3b8df0"
      },
      "execution_count": 23,
      "outputs": [
        {
          "output_type": "execute_result",
          "data": {
            "text/plain": [
              "Length            0.20250\n",
              "Diameter          0.15500\n",
              "Height            0.04000\n",
              "Whole weight     -0.62575\n",
              "Shucked weight   -0.28800\n",
              "Viscera weight   -0.14575\n",
              "Shell weight     -0.16850\n",
              "Rings             3.50000\n",
              "dtype: float64"
            ]
          },
          "metadata": {},
          "execution_count": 23
        }
      ]
    },
    {
      "cell_type": "code",
      "source": [
        "sns.boxplot(df.Diameter)"
      ],
      "metadata": {
        "colab": {
          "base_uri": "https://localhost:8080/",
          "height": 296
        },
        "id": "TuSENV4y8s_s",
        "outputId": "5bedc2e9-3d11-4da7-f577-bbf386971817"
      },
      "execution_count": 24,
      "outputs": [
        {
          "output_type": "execute_result",
          "data": {
            "text/plain": [
              "<matplotlib.axes._subplots.AxesSubplot at 0x7f6203b34310>"
            ]
          },
          "metadata": {},
          "execution_count": 24
        },
        {
          "output_type": "display_data",
          "data": {
            "text/plain": [
              "<Figure size 432x288 with 1 Axes>"
            ],
            "image/png": "[encoded data removed]"
          },
          "metadata": {
            "needs_background": "light"
          }
        }
      ]
    },
    {
      "cell_type": "code",
      "source": [
        "sns.boxplot(df.Length)"
      ],
      "metadata": {
        "colab": {
          "base_uri": "https://localhost:8080/",
          "height": 296
        },
        "id": "XsGUIU8A8w6p",
        "outputId": "ae25c79f-8c5a-4f3e-fd03-c595aaeed168"
      },
      "execution_count": 25,
      "outputs": [
        {
          "output_type": "execute_result",
          "data": {
            "text/plain": [
              "<matplotlib.axes._subplots.AxesSubplot at 0x7f6203c16f90>"
            ]
          },
          "metadata": {},
          "execution_count": 25
        },
        {
          "output_type": "display_data",
          "data": {
            "text/plain": [
              "<Figure size 432x288 with 1 Axes>"
            ],
            "image/png": "[encoded data removed]"
          },
          "metadata": {
            "needs_background": "light"
          }
        }
      ]
    },
    {
      "cell_type": "markdown",
      "source": [
        "**7.CHECK CATEGORICAL COLUMNS AND PERFORM ENCODING**"
      ],
      "metadata": {
        "id": "7IXQS0Ee84NJ"
      }
    },
    {
      "cell_type": "code",
      "source": [
        "from sklearn.preprocessing import LabelEncoder\n",
        "le=LabelEncoder()\n",
        "df.main=le.fit_transform(df.Rings)\n",
        "df.main\n"
      ],
      "metadata": {
        "colab": {
          "base_uri": "https://localhost:8080/"
        },
        "id": "zeCC27tD80SD",
        "outputId": "0cd57018-fbf6-49af-d70c-5da9b7a3fbca"
      },
      "execution_count": 26,
      "outputs": [
        {
          "output_type": "execute_result",
          "data": {
            "text/plain": [
              "array([14,  6,  8, ...,  8,  9, 11])"
            ]
          },
          "metadata": {},
          "execution_count": 26
        }
      ]
    },
    {
      "cell_type": "code",
      "source": [
        "df.main=pd.get_dummies(df.Rings)\n",
        "df.main"
      ],
      "metadata": {
        "colab": {
          "base_uri": "https://localhost:8080/",
          "height": 424
        },
        "id": "gaRYM4K989q-",
        "outputId": "3112fe81-6226-4535-88ce-4ff154d34d94"
      },
      "execution_count": 27,
      "outputs": [
        {
          "output_type": "execute_result",
          "data": {
            "text/plain": [
              "      1   2   3   4   5   6   7   8   9   10  ...  19  20  21  22  23  24  25  \\\n",
              "0      0   0   0   0   0   0   0   0   0   0  ...   0   0   0   0   0   0   0   \n",
              "1      0   0   0   0   0   0   1   0   0   0  ...   0   0   0   0   0   0   0   \n",
              "2      0   0   0   0   0   0   0   0   1   0  ...   0   0   0   0   0   0   0   \n",
              "3      0   0   0   0   0   0   0   0   0   1  ...   0   0   0   0   0   0   0   \n",
              "4      0   0   0   0   0   0   1   0   0   0  ...   0   0   0   0   0   0   0   \n",
              "...   ..  ..  ..  ..  ..  ..  ..  ..  ..  ..  ...  ..  ..  ..  ..  ..  ..  ..   \n",
              "4172   0   0   0   0   0   0   0   0   0   0  ...   0   0   0   0   0   0   0   \n",
              "4173   0   0   0   0   0   0   0   0   0   1  ...   0   0   0   0   0   0   0   \n",
              "4174   0   0   0   0   0   0   0   0   1   0  ...   0   0   0   0   0   0   0   \n",
              "4175   0   0   0   0   0   0   0   0   0   1  ...   0   0   0   0   0   0   0   \n",
              "4176   0   0   0   0   0   0   0   0   0   0  ...   0   0   0   0   0   0   0   \n",
              "\n",
              "      26  27  29  \n",
              "0      0   0   0  \n",
              "1      0   0   0  \n",
              "2      0   0   0  \n",
              "3      0   0   0  \n",
              "4      0   0   0  \n",
              "...   ..  ..  ..  \n",
              "4172   0   0   0  \n",
              "4173   0   0   0  \n",
              "4174   0   0   0  \n",
              "4175   0   0   0  \n",
              "4176   0   0   0  \n",
              "\n",
              "[4177 rows x 28 columns]"
            ],
            "text/html": [
              "\n",
              "  <div id=\"df-bb87d7c2-9b2a-44c4-84eb-caf7800c4f5d\">\n",
              "    <div class=\"colab-df-container\">\n",
              "      <div>\n",
              "<style scoped>\n",
              "    .dataframe tbody tr th:only-of-type {\n",
              "        vertical-align: middle;\n",
              "    }\n",
              "\n",
              "    .dataframe tbody tr th {\n",
              "        vertical-align: top;\n",
              "    }\n",
              "\n",
              "    .dataframe thead th {\n",
              "        text-align: right;\n",
              "    }\n",
              "</style>\n",
              "<table border=\"1\" class=\"dataframe\">\n",
              "  <thead>\n",
              "    <tr style=\"text-align: right;\">\n",
              "      <th></th>\n",
              "      <th>1</th>\n",
              "      <th>2</th>\n",
              "      <th>3</th>\n",
              "      <th>4</th>\n",
              "      <th>5</th>\n",
              "      <th>6</th>\n",
              "      <th>7</th>\n",
              "      <th>8</th>\n",
              "      <th>9</th>\n",
              "      <th>10</th>\n",
              "      <th>...</th>\n",
              "      <th>19</th>\n",
              "      <th>20</th>\n",
              "      <th>21</th>\n",
              "      <th>22</th>\n",
              "      <th>23</th>\n",
              "      <th>24</th>\n",
              "      <th>25</th>\n",
              "      <th>26</th>\n",
              "      <th>27</th>\n",
              "      <th>29</th>\n",
              "    </tr>\n",
              "  </thead>\n",
              "  <tbody>\n",
              "    <tr>\n",
              "      <th>0</th>\n",
              "      <td>0</td>\n",
              "      <td>0</td>\n",
              "      <td>0</td>\n",
              "      <td>0</td>\n",
              "      <td>0</td>\n",
              "      <td>0</td>\n",
              "      <td>0</td>\n",
              "      <td>0</td>\n",
              "      <td>0</td>\n",
              "      <td>0</td>\n",
              "      <td>...</td>\n",
              "      <td>0</td>\n",
              "      <td>0</td>\n",
              "      <td>0</td>\n",
              "      <td>0</td>\n",
              "      <td>0</td>\n",
              "      <td>0</td>\n",
              "      <td>0</td>\n",
              "      <td>0</td>\n",
              "      <td>0</td>\n",
              "      <td>0</td>\n",
              "    </tr>\n",
              "    <tr>\n",
              "      <th>1</th>\n",
              "      <td>0</td>\n",
              "      <td>0</td>\n",
              "      <td>0</td>\n",
              "      <td>0</td>\n",
              "      <td>0</td>\n",
              "      <td>0</td>\n",
              "      <td>1</td>\n",
              "      <td>0</td>\n",
              "      <td>0</td>\n",
              "      <td>0</td>\n",
              "      <td>...</td>\n",
              "      <td>0</td>\n",
              "      <td>0</td>\n",
              "      <td>0</td>\n",
              "      <td>0</td>\n",
              "      <td>0</td>\n",
              "      <td>0</td>\n",
              "      <td>0</td>\n",
              "      <td>0</td>\n",
              "      <td>0</td>\n",
              "      <td>0</td>\n",
              "    </tr>\n",
              "    <tr>\n",
              "      <th>2</th>\n",
              "      <td>0</td>\n",
              "      <td>0</td>\n",
              "      <td>0</td>\n",
              "      <td>0</td>\n",
              "      <td>0</td>\n",
              "      <td>0</td>\n",
              "      <td>0</td>\n",
              "      <td>0</td>\n",
              "      <td>1</td>\n",
              "      <td>0</td>\n",
              "      <td>...</td>\n",
              "      <td>0</td>\n",
              "      <td>0</td>\n",
              "      <td>0</td>\n",
              "      <td>0</td>\n",
              "      <td>0</td>\n",
              "      <td>0</td>\n",
              "      <td>0</td>\n",
              "      <td>0</td>\n",
              "      <td>0</td>\n",
              "      <td>0</td>\n",
              "    </tr>\n",
              "    <tr>\n",
              "      <th>3</th>\n",
              "      <td>0</td>\n",
              "      <td>0</td>\n",
              "      <td>0</td>\n",
              "      <td>0</td>\n",
              "      <td>0</td>\n",
              "      <td>0</td>\n",
              "      <td>0</td>\n",
              "      <td>0</td>\n",
              "      <td>0</td>\n",
              "      <td>1</td>\n",
              "      <td>...</td>\n",
              "      <td>0</td>\n",
              "      <td>0</td>\n",
              "      <td>0</td>\n",
              "      <td>0</td>\n",
              "      <td>0</td>\n",
              "      <td>0</td>\n",
              "      <td>0</td>\n",
              "      <td>0</td>\n",
              "      <td>0</td>\n",
              "      <td>0</td>\n",
              "    </tr>\n",
              "    <tr>\n",
              "      <th>4</th>\n",
              "      <td>0</td>\n",
              "      <td>0</td>\n",
              "      <td>0</td>\n",
              "      <td>0</td>\n",
              "      <td>0</td>\n",
              "      <td>0</td>\n",
              "      <td>1</td>\n",
              "      <td>0</td>\n",
              "      <td>0</td>\n",
              "      <td>0</td>\n",
              "      <td>...</td>\n",
              "      <td>0</td>\n",
              "      <td>0</td>\n",
              "      <td>0</td>\n",
              "      <td>0</td>\n",
              "      <td>0</td>\n",
              "      <td>0</td>\n",
              "      <td>0</td>\n",
              "      <td>0</td>\n",
              "      <td>0</td>\n",
              "      <td>0</td>\n",
              "    </tr>\n",
              "    <tr>\n",
              "      <th>...</th>\n",
              "      <td>...</td>\n",
              "      <td>...</td>\n",
              "      <td>...</td>\n",
              "      <td>...</td>\n",
              "      <td>...</td>\n",
              "      <td>...</td>\n",
              "      <td>...</td>\n",
              "      <td>...</td>\n",
              "      <td>...</td>\n",
              "      <td>...</td>\n",
              "      <td>...</td>\n",
              "      <td>...</td>\n",
              "      <td>...</td>\n",
              "      <td>...</td>\n",
              "      <td>...</td>\n",
              "      <td>...</td>\n",
              "      <td>...</td>\n",
              "      <td>...</td>\n",
              "      <td>...</td>\n",
              "      <td>...</td>\n",
              "      <td>...</td>\n",
              "    </tr>\n",
              "    <tr>\n",
              "      <th>4172</th>\n",
              "      <td>0</td>\n",
              "      <td>0</td>\n",
              "      <td>0</td>\n",
              "      <td>0</td>\n",
              "      <td>0</td>\n",
              "      <td>0</td>\n",
              "      <td>0</td>\n",
              "      <td>0</td>\n",
              "      <td>0</td>\n",
              "      <td>0</td>\n",
              "      <td>...</td>\n",
              "      <td>0</td>\n",
              "      <td>0</td>\n",
              "      <td>0</td>\n",
              "      <td>0</td>\n",
              "      <td>0</td>\n",
              "      <td>0</td>\n",
              "      <td>0</td>\n",
              "      <td>0</td>\n",
              "      <td>0</td>\n",
              "      <td>0</td>\n",
              "    </tr>\n",
              "    <tr>\n",
              "      <th>4173</th>\n",
              "      <td>0</td>\n",
              "      <td>0</td>\n",
              "      <td>0</td>\n",
              "      <td>0</td>\n",
              "      <td>0</td>\n",
              "      <td>0</td>\n",
              "      <td>0</td>\n",
              "      <td>0</td>\n",
              "      <td>0</td>\n",
              "      <td>1</td>\n",
              "      <td>...</td>\n",
              "      <td>0</td>\n",
              "      <td>0</td>\n",
              "      <td>0</td>\n",
              "      <td>0</td>\n",
              "      <td>0</td>\n",
              "      <td>0</td>\n",
              "      <td>0</td>\n",
              "      <td>0</td>\n",
              "      <td>0</td>\n",
              "      <td>0</td>\n",
              "    </tr>\n",
              "    <tr>\n",
              "      <th>4174</th>\n",
              "      <td>0</td>\n",
              "      <td>0</td>\n",
              "      <td>0</td>\n",
              "      <td>0</td>\n",
              "      <td>0</td>\n",
              "      <td>0</td>\n",
              "      <td>0</td>\n",
              "      <td>0</td>\n",
              "      <td>1</td>\n",
              "      <td>0</td>\n",
              "      <td>...</td>\n",
              "      <td>0</td>\n",
              "      <td>0</td>\n",
              "      <td>0</td>\n",
              "      <td>0</td>\n",
              "      <td>0</td>\n",
              "      <td>0</td>\n",
              "      <td>0</td>\n",
              "      <td>0</td>\n",
              "      <td>0</td>\n",
              "      <td>0</td>\n",
              "    </tr>\n",
              "    <tr>\n",
              "      <th>4175</th>\n",
              "      <td>0</td>\n",
              "      <td>0</td>\n",
              "      <td>0</td>\n",
              "      <td>0</td>\n",
              "      <td>0</td>\n",
              "      <td>0</td>\n",
              "      <td>0</td>\n",
              "      <td>0</td>\n",
              "      <td>0</td>\n",
              "      <td>1</td>\n",
              "      <td>...</td>\n",
              "      <td>0</td>\n",
              "      <td>0</td>\n",
              "      <td>0</td>\n",
              "      <td>0</td>\n",
              "      <td>0</td>\n",
              "      <td>0</td>\n",
              "      <td>0</td>\n",
              "      <td>0</td>\n",
              "      <td>0</td>\n",
              "      <td>0</td>\n",
              "    </tr>\n",
              "    <tr>\n",
              "      <th>4176</th>\n",
              "      <td>0</td>\n",
              "      <td>0</td>\n",
              "      <td>0</td>\n",
              "      <td>0</td>\n",
              "      <td>0</td>\n",
              "      <td>0</td>\n",
              "      <td>0</td>\n",
              "      <td>0</td>\n",
              "      <td>0</td>\n",
              "      <td>0</td>\n",
              "      <td>...</td>\n",
              "      <td>0</td>\n",
              "      <td>0</td>\n",
              "      <td>0</td>\n",
              "      <td>0</td>\n",
              "      <td>0</td>\n",
              "      <td>0</td>\n",
              "      <td>0</td>\n",
              "      <td>0</td>\n",
              "      <td>0</td>\n",
              "      <td>0</td>\n",
              "    </tr>\n",
              "  </tbody>\n",
              "</table>\n",
              "<p>4177 rows × 28 columns</p>\n",
              "</div>\n",
              "      <button class=\"colab-df-convert\" onclick=\"convertToInteractive('df-bb87d7c2-9b2a-44c4-84eb-caf7800c4f5d')\"\n",
              "              title=\"Convert this dataframe to an interactive table.\"\n",
              "              style=\"display:none;\">\n",
              "        \n",
              "  <svg xmlns=\"http://www.w3.org/2000/svg\" height=\"24px\"viewBox=\"0 0 24 24\"\n",
              "       width=\"24px\">\n",
              "    <path d=\"M0 0h24v24H0V0z\" fill=\"none\"/>\n",
              "    <path d=\"M18.56 5.44l.94 2.06.94-2.06 2.06-.94-2.06-.94-.94-2.06-.94 2.06-2.06.94zm-11 1L8.5 8.5l.94-2.06 2.06-.94-2.06-.94L8.5 2.5l-.94 2.06-2.06.94zm10 10l.94 2.06.94-2.06 2.06-.94-2.06-.94-.94-2.06-.94 2.06-2.06.94z\"/><path d=\"M17.41 7.96l-1.37-1.37c-.4-.4-.92-.59-1.43-.59-.52 0-1.04.2-1.43.59L10.3 9.45l-7.72 7.72c-.78.78-.78 2.05 0 2.83L4 21.41c.39.39.9.59 1.41.59.51 0 1.02-.2 1.41-.59l7.78-7.78 2.81-2.81c.8-.78.8-2.07 0-2.86zM5.41 20L4 18.59l7.72-7.72 1.47 1.35L5.41 20z\"/>\n",
              "  </svg>\n",
              "      </button>\n",
              "      \n",
              "  <style>\n",
              "    .colab-df-container {\n",
              "      display:flex;\n",
              "      flex-wrap:wrap;\n",
              "      gap: 12px;\n",
              "    }\n",
              "\n",
              "    .colab-df-convert {\n",
              "      background-color: #E8F0FE;\n",
              "      border: none;\n",
              "      border-radius: 50%;\n",
              "      cursor: pointer;\n",
              "      display: none;\n",
              "      fill: #1967D2;\n",
              "      height: 32px;\n",
              "      padding: 0 0 0 0;\n",
              "      width: 32px;\n",
              "    }\n",
              "\n",
              "    .colab-df-convert:hover {\n",
              "      background-color: #E2EBFA;\n",
              "      box-shadow: 0px 1px 2px rgba(60, 64, 67, 0.3), 0px 1px 3px 1px rgba(60, 64, 67, 0.15);\n",
              "      fill: #174EA6;\n",
              "    }\n",
              "\n",
              "    [theme=dark] .colab-df-convert {\n",
              "      background-color: #3B4455;\n",
              "      fill: #D2E3FC;\n",
              "    }\n",
              "\n",
              "    [theme=dark] .colab-df-convert:hover {\n",
              "      background-color: #434B5C;\n",
              "      box-shadow: 0px 1px 3px 1px rgba(0, 0, 0, 0.15);\n",
              "      filter: drop-shadow(0px 1px 2px rgba(0, 0, 0, 0.3));\n",
              "      fill: #FFFFFF;\n",
              "    }\n",
              "  </style>\n",
              "\n",
              "      <script>\n",
              "        const buttonEl =\n",
              "          document.querySelector('#df-bb87d7c2-9b2a-44c4-84eb-caf7800c4f5d button.colab-df-convert');\n",
              "        buttonEl.style.display =\n",
              "          google.colab.kernel.accessAllowed ? 'block' : 'none';\n",
              "\n",
              "        async function convertToInteractive(key) {\n",
              "          const element = document.querySelector('#df-bb87d7c2-9b2a-44c4-84eb-caf7800c4f5d');\n",
              "          const dataTable =\n",
              "            await google.colab.kernel.invokeFunction('convertToInteractive',\n",
              "                                                     [key], {});\n",
              "          if (!dataTable) return;\n",
              "\n",
              "          const docLinkHtml = 'Like what you see? Visit the ' +\n",
              "            '<a target=\"_blank\" href=https://colab.research.google.com/notebooks/data_table.ipynb>data table notebook</a>'\n",
              "            + ' to learn more about interactive tables.';\n",
              "          element.innerHTML = '';\n",
              "          dataTable['output_type'] = 'display_data';\n",
              "          await google.colab.output.renderOutput(dataTable, element);\n",
              "          const docLink = document.createElement('div');\n",
              "          docLink.innerHTML = docLinkHtml;\n",
              "          element.appendChild(docLink);\n",
              "        }\n",
              "      </script>\n",
              "    </div>\n",
              "  </div>\n",
              "  "
            ]
          },
          "metadata": {},
          "execution_count": 27
        }
      ]
    },
    {
      "cell_type": "code",
      "source": [
        "pd.get_dummies(df).tail()"
      ],
      "metadata": {
        "colab": {
          "base_uri": "https://localhost:8080/",
          "height": 206
        },
        "id": "bCaSdMjH8_xM",
        "outputId": "12f1a8a1-1485-45d2-bfda-6df1785082c7"
      },
      "execution_count": 28,
      "outputs": [
        {
          "output_type": "execute_result",
          "data": {
            "text/plain": [
              "      Length  Diameter  Height  Whole weight  Shucked weight  Viscera weight  \\\n",
              "4172   0.565     0.450   0.165        0.8870          0.3700          0.2390   \n",
              "4173   0.590     0.440   0.135        0.9660          0.4390          0.2145   \n",
              "4174   0.600     0.475   0.205        1.1760          0.5255          0.2875   \n",
              "4175   0.625     0.485   0.150        1.0945          0.5310          0.2610   \n",
              "4176   0.710     0.555   0.195        1.9485          0.9455          0.3765   \n",
              "\n",
              "      Shell weight  Rings  \n",
              "4172        0.2490     11  \n",
              "4173        0.2605     10  \n",
              "4174        0.3080      9  \n",
              "4175        0.2960     10  \n",
              "4176        0.4950     12  "
            ],
            "text/html": [
              "\n",
              "  <div id=\"df-b70ec447-20fe-4e3c-8b67-7a4a6b6945a9\">\n",
              "    <div class=\"colab-df-container\">\n",
              "      <div>\n",
              "<style scoped>\n",
              "    .dataframe tbody tr th:only-of-type {\n",
              "        vertical-align: middle;\n",
              "    }\n",
              "\n",
              "    .dataframe tbody tr th {\n",
              "        vertical-align: top;\n",
              "    }\n",
              "\n",
              "    .dataframe thead th {\n",
              "        text-align: right;\n",
              "    }\n",
              "</style>\n",
              "<table border=\"1\" class=\"dataframe\">\n",
              "  <thead>\n",
              "    <tr style=\"text-align: right;\">\n",
              "      <th></th>\n",
              "      <th>Length</th>\n",
              "      <th>Diameter</th>\n",
              "      <th>Height</th>\n",
              "      <th>Whole weight</th>\n",
              "      <th>Shucked weight</th>\n",
              "      <th>Viscera weight</th>\n",
              "      <th>Shell weight</th>\n",
              "      <th>Rings</th>\n",
              "    </tr>\n",
              "  </thead>\n",
              "  <tbody>\n",
              "    <tr>\n",
              "      <th>4172</th>\n",
              "      <td>0.565</td>\n",
              "      <td>0.450</td>\n",
              "      <td>0.165</td>\n",
              "      <td>0.8870</td>\n",
              "      <td>0.3700</td>\n",
              "      <td>0.2390</td>\n",
              "      <td>0.2490</td>\n",
              "      <td>11</td>\n",
              "    </tr>\n",
              "    <tr>\n",
              "      <th>4173</th>\n",
              "      <td>0.590</td>\n",
              "      <td>0.440</td>\n",
              "      <td>0.135</td>\n",
              "      <td>0.9660</td>\n",
              "      <td>0.4390</td>\n",
              "      <td>0.2145</td>\n",
              "      <td>0.2605</td>\n",
              "      <td>10</td>\n",
              "    </tr>\n",
              "    <tr>\n",
              "      <th>4174</th>\n",
              "      <td>0.600</td>\n",
              "      <td>0.475</td>\n",
              "      <td>0.205</td>\n",
              "      <td>1.1760</td>\n",
              "      <td>0.5255</td>\n",
              "      <td>0.2875</td>\n",
              "      <td>0.3080</td>\n",
              "      <td>9</td>\n",
              "    </tr>\n",
              "    <tr>\n",
              "      <th>4175</th>\n",
              "      <td>0.625</td>\n",
              "      <td>0.485</td>\n",
              "      <td>0.150</td>\n",
              "      <td>1.0945</td>\n",
              "      <td>0.5310</td>\n",
              "      <td>0.2610</td>\n",
              "      <td>0.2960</td>\n",
              "      <td>10</td>\n",
              "    </tr>\n",
              "    <tr>\n",
              "      <th>4176</th>\n",
              "      <td>0.710</td>\n",
              "      <td>0.555</td>\n",
              "      <td>0.195</td>\n",
              "      <td>1.9485</td>\n",
              "      <td>0.9455</td>\n",
              "      <td>0.3765</td>\n",
              "      <td>0.4950</td>\n",
              "      <td>12</td>\n",
              "    </tr>\n",
              "  </tbody>\n",
              "</table>\n",
              "</div>\n",
              "      <button class=\"colab-df-convert\" onclick=\"convertToInteractive('df-b70ec447-20fe-4e3c-8b67-7a4a6b6945a9')\"\n",
              "              title=\"Convert this dataframe to an interactive table.\"\n",
              "              style=\"display:none;\">\n",
              "        \n",
              "  <svg xmlns=\"http://www.w3.org/2000/svg\" height=\"24px\"viewBox=\"0 0 24 24\"\n",
              "       width=\"24px\">\n",
              "    <path d=\"M0 0h24v24H0V0z\" fill=\"none\"/>\n",
              "    <path d=\"M18.56 5.44l.94 2.06.94-2.06 2.06-.94-2.06-.94-.94-2.06-.94 2.06-2.06.94zm-11 1L8.5 8.5l.94-2.06 2.06-.94-2.06-.94L8.5 2.5l-.94 2.06-2.06.94zm10 10l.94 2.06.94-2.06 2.06-.94-2.06-.94-.94-2.06-.94 2.06-2.06.94z\"/><path d=\"M17.41 7.96l-1.37-1.37c-.4-.4-.92-.59-1.43-.59-.52 0-1.04.2-1.43.59L10.3 9.45l-7.72 7.72c-.78.78-.78 2.05 0 2.83L4 21.41c.39.39.9.59 1.41.59.51 0 1.02-.2 1.41-.59l7.78-7.78 2.81-2.81c.8-.78.8-2.07 0-2.86zM5.41 20L4 18.59l7.72-7.72 1.47 1.35L5.41 20z\"/>\n",
              "  </svg>\n",
              "      </button>\n",
              "      \n",
              "  <style>\n",
              "    .colab-df-container {\n",
              "      display:flex;\n",
              "      flex-wrap:wrap;\n",
              "      gap: 12px;\n",
              "    }\n",
              "\n",
              "    .colab-df-convert {\n",
              "      background-color: #E8F0FE;\n",
              "      border: none;\n",
              "      border-radius: 50%;\n",
              "      cursor: pointer;\n",
              "      display: none;\n",
              "      fill: #1967D2;\n",
              "      height: 32px;\n",
              "      padding: 0 0 0 0;\n",
              "      width: 32px;\n",
              "    }\n",
              "\n",
              "    .colab-df-convert:hover {\n",
              "      background-color: #E2EBFA;\n",
              "      box-shadow: 0px 1px 2px rgba(60, 64, 67, 0.3), 0px 1px 3px 1px rgba(60, 64, 67, 0.15);\n",
              "      fill: #174EA6;\n",
              "    }\n",
              "\n",
              "    [theme=dark] .colab-df-convert {\n",
              "      background-color: #3B4455;\n",
              "      fill: #D2E3FC;\n",
              "    }\n",
              "\n",
              "    [theme=dark] .colab-df-convert:hover {\n",
              "      background-color: #434B5C;\n",
              "      box-shadow: 0px 1px 3px 1px rgba(0, 0, 0, 0.15);\n",
              "      filter: drop-shadow(0px 1px 2px rgba(0, 0, 0, 0.3));\n",
              "      fill: #FFFFFF;\n",
              "    }\n",
              "  </style>\n",
              "\n",
              "      <script>\n",
              "        const buttonEl =\n",
              "          document.querySelector('#df-b70ec447-20fe-4e3c-8b67-7a4a6b6945a9 button.colab-df-convert');\n",
              "        buttonEl.style.display =\n",
              "          google.colab.kernel.accessAllowed ? 'block' : 'none';\n",
              "\n",
              "        async function convertToInteractive(key) {\n",
              "          const element = document.querySelector('#df-b70ec447-20fe-4e3c-8b67-7a4a6b6945a9');\n",
              "          const dataTable =\n",
              "            await google.colab.kernel.invokeFunction('convertToInteractive',\n",
              "                                                     [key], {});\n",
              "          if (!dataTable) return;\n",
              "\n",
              "          const docLinkHtml = 'Like what you see? Visit the ' +\n",
              "            '<a target=\"_blank\" href=https://colab.research.google.com/notebooks/data_table.ipynb>data table notebook</a>'\n",
              "            + ' to learn more about interactive tables.';\n",
              "          element.innerHTML = '';\n",
              "          dataTable['output_type'] = 'display_data';\n",
              "          await google.colab.output.renderOutput(dataTable, element);\n",
              "          const docLink = document.createElement('div');\n",
              "          docLink.innerHTML = docLinkHtml;\n",
              "          element.appendChild(docLink);\n",
              "        }\n",
              "      </script>\n",
              "    </div>\n",
              "  </div>\n",
              "  "
            ]
          },
          "metadata": {},
          "execution_count": 28
        }
      ]
    },
    {
      "cell_type": "markdown",
      "source": [
        "**8.SPLIT THE DATA INTO DEPENDENT AND INDEPENDENT VARIABLES**"
      ],
      "metadata": {
        "id": "m9wiC-5j9GIE"
      }
    },
    {
      "cell_type": "code",
      "source": [
        "X = df.iloc[:,0:3]\n",
        "print(X)"
      ],
      "metadata": {
        "colab": {
          "base_uri": "https://localhost:8080/"
        },
        "id": "cR2LVMMn9ac4",
        "outputId": "c97c2f21-2627-4237-9ecf-874c290adc73"
      },
      "execution_count": 29,
      "outputs": [
        {
          "output_type": "stream",
          "name": "stdout",
          "text": [
            "      Length  Diameter  Height\n",
            "0      0.455     0.365   0.095\n",
            "1      0.350     0.265   0.090\n",
            "2      0.530     0.420   0.135\n",
            "3      0.440     0.365   0.125\n",
            "4      0.330     0.255   0.080\n",
            "...      ...       ...     ...\n",
            "4172   0.565     0.450   0.165\n",
            "4173   0.590     0.440   0.135\n",
            "4174   0.600     0.475   0.205\n",
            "4175   0.625     0.485   0.150\n",
            "4176   0.710     0.555   0.195\n",
            "\n",
            "[4177 rows x 3 columns]\n"
          ]
        }
      ]
    },
    {
      "cell_type": "code",
      "source": [
        "Y = df.iloc[:14, 2].values\n",
        "print(Y)"
      ],
      "metadata": {
        "colab": {
          "base_uri": "https://localhost:8080/"
        },
        "id": "HY_0QIKe9d8d",
        "outputId": "3983a001-b5b8-4483-df24-53d6cae1ffe7"
      },
      "execution_count": 30,
      "outputs": [
        {
          "output_type": "stream",
          "name": "stdout",
          "text": [
            "[0.095 0.09  0.135 0.125 0.08  0.095 0.15  0.125 0.125 0.15  0.14  0.11\n",
            " 0.135 0.145]\n"
          ]
        }
      ]
    },
    {
      "cell_type": "markdown",
      "source": [
        "**9.SCALE THE INDEPENDENT VARIABLES**"
      ],
      "metadata": {
        "id": "Lgv3mJ7Z9kwx"
      }
    },
    {
      "cell_type": "code",
      "source": [
        "from sklearn.preprocessing import StandardScaler"
      ],
      "metadata": {
        "id": "dlltVlDE9sNu"
      },
      "execution_count": 31,
      "outputs": []
    },
    {
      "cell_type": "code",
      "source": [
        "x = df[[\"Shell weight\",\"Viscera weight\"]]\n",
        "scale = StandardScaler()\n",
        "st_scale = scale.fit_transform(x)\n",
        "st_scale"
      ],
      "metadata": {
        "colab": {
          "base_uri": "https://localhost:8080/"
        },
        "id": "GjakvW6P9h8n",
        "outputId": "cdb7ade0-aaad-412f-e7d5-fbbf4634a151"
      },
      "execution_count": 32,
      "outputs": [
        {
          "output_type": "execute_result",
          "data": {
            "text/plain": [
              "array([[-0.63821689, -0.72621157],\n",
              "       [-1.21298732, -1.20522124],\n",
              "       [-0.20713907, -0.35668983],\n",
              "       ...,\n",
              "       [ 0.49695471,  0.97541324],\n",
              "       [ 0.41073914,  0.73362741],\n",
              "       [ 1.84048058,  1.78744868]])"
            ]
          },
          "metadata": {},
          "execution_count": 32
        }
      ]
    },
    {
      "cell_type": "code",
      "source": [
        "from sklearn.preprocessing import MinMaxScaler\n",
        "min_max = MinMaxScaler(feature_range=(0,1))\n",
        "norm = min_max.fit_transform(x)\n",
        "norm"
      ],
      "metadata": {
        "colab": {
          "base_uri": "https://localhost:8080/"
        },
        "id": "CU1GXpFL9wpq",
        "outputId": "04cbf1cf-75ab-417a-8830-2d7dd318027f"
      },
      "execution_count": 33,
      "outputs": [
        {
          "output_type": "execute_result",
          "data": {
            "text/plain": [
              "array([[0.14798206, 0.1323239 ],\n",
              "       [0.06826109, 0.06319947],\n",
              "       [0.2077728 , 0.18564845],\n",
              "       ...,\n",
              "       [0.30543099, 0.37788018],\n",
              "       [0.29347285, 0.34298881],\n",
              "       [0.49177877, 0.49506254]])"
            ]
          },
          "metadata": {},
          "execution_count": 33
        }
      ]
    },
    {
      "cell_type": "markdown",
      "source": [
        "**10.SPLIT THE DATA INTO TRAINING AND TESTING**"
      ],
      "metadata": {
        "id": "ldW0FbDY96Fw"
      }
    },
    {
      "cell_type": "code",
      "source": [
        "from sklearn.model_selection import train_test_split\n",
        "y = df[\"Rings\"]\n",
        "x = df.drop(columns = [\"Rings\"])\n",
        "x_train,x_test,y_train,y_test = train_test_split(x,y,test_size=0.2, random_state=42)\n",
        "x_train.shape,x_test.shape,y_train.shape,y_test.shape"
      ],
      "metadata": {
        "colab": {
          "base_uri": "https://localhost:8080/"
        },
        "id": "czVcRAIW-BNP",
        "outputId": "dd287c1b-5d91-4094-ff43-58720a1d6102"
      },
      "execution_count": 34,
      "outputs": [
        {
          "output_type": "execute_result",
          "data": {
            "text/plain": [
              "((3341, 7), (836, 7), (3341,), (836,))"
            ]
          },
          "metadata": {},
          "execution_count": 34
        }
      ]
    },
    {
      "cell_type": "code",
      "source": [
        "x_test"
      ],
      "metadata": {
        "colab": {
          "base_uri": "https://localhost:8080/",
          "height": 424
        },
        "id": "YDsqDsS69zbM",
        "outputId": "8c4d8b98-e95a-43fd-cb8b-7572ee20fff6"
      },
      "execution_count": 35,
      "outputs": [
        {
          "output_type": "execute_result",
          "data": {
            "text/plain": [
              "      Length  Diameter  Height  Whole weight  Shucked weight  Viscera weight  \\\n",
              "866    0.605     0.455   0.160        1.1035          0.4210          0.3015   \n",
              "1483   0.590     0.440   0.150        0.8725          0.3870          0.2150   \n",
              "599    0.560     0.445   0.195        0.9810          0.3050          0.2245   \n",
              "1702   0.635     0.490   0.170        1.2615          0.5385          0.2665   \n",
              "670    0.475     0.385   0.145        0.6175          0.2350          0.1080   \n",
              "...      ...       ...     ...           ...             ...             ...   \n",
              "3093   0.520     0.430   0.150        0.7280          0.3020          0.1575   \n",
              "1651   0.595     0.435   0.150        0.9000          0.4175          0.1700   \n",
              "2897   0.545     0.430   0.150        0.7420          0.3525          0.1580   \n",
              "3953   0.465     0.355   0.120        0.5805          0.2550          0.0915   \n",
              "1830   0.365     0.275   0.085        0.2230          0.0980          0.0375   \n",
              "\n",
              "      Shell weight  \n",
              "866          0.325  \n",
              "1483         0.245  \n",
              "599          0.335  \n",
              "1702         0.380  \n",
              "670          0.215  \n",
              "...            ...  \n",
              "3093         0.235  \n",
              "1651         0.265  \n",
              "2897         0.208  \n",
              "3953         0.184  \n",
              "1830         0.075  \n",
              "\n",
              "[836 rows x 7 columns]"
            ],
            "text/html": [
              "\n",
              "  <div id=\"df-cf41f5ac-5927-44d1-9a24-850bb3ca2630\">\n",
              "    <div class=\"colab-df-container\">\n",
              "      <div>\n",
              "<style scoped>\n",
              "    .dataframe tbody tr th:only-of-type {\n",
              "        vertical-align: middle;\n",
              "    }\n",
              "\n",
              "    .dataframe tbody tr th {\n",
              "        vertical-align: top;\n",
              "    }\n",
              "\n",
              "    .dataframe thead th {\n",
              "        text-align: right;\n",
              "    }\n",
              "</style>\n",
              "<table border=\"1\" class=\"dataframe\">\n",
              "  <thead>\n",
              "    <tr style=\"text-align: right;\">\n",
              "      <th></th>\n",
              "      <th>Length</th>\n",
              "      <th>Diameter</th>\n",
              "      <th>Height</th>\n",
              "      <th>Whole weight</th>\n",
              "      <th>Shucked weight</th>\n",
              "      <th>Viscera weight</th>\n",
              "      <th>Shell weight</th>\n",
              "    </tr>\n",
              "  </thead>\n",
              "  <tbody>\n",
              "    <tr>\n",
              "      <th>866</th>\n",
              "      <td>0.605</td>\n",
              "      <td>0.455</td>\n",
              "      <td>0.160</td>\n",
              "      <td>1.1035</td>\n",
              "      <td>0.4210</td>\n",
              "      <td>0.3015</td>\n",
              "      <td>0.325</td>\n",
              "    </tr>\n",
              "    <tr>\n",
              "      <th>1483</th>\n",
              "      <td>0.590</td>\n",
              "      <td>0.440</td>\n",
              "      <td>0.150</td>\n",
              "      <td>0.8725</td>\n",
              "      <td>0.3870</td>\n",
              "      <td>0.2150</td>\n",
              "      <td>0.245</td>\n",
              "    </tr>\n",
              "    <tr>\n",
              "      <th>599</th>\n",
              "      <td>0.560</td>\n",
              "      <td>0.445</td>\n",
              "      <td>0.195</td>\n",
              "      <td>0.9810</td>\n",
              "      <td>0.3050</td>\n",
              "      <td>0.2245</td>\n",
              "      <td>0.335</td>\n",
              "    </tr>\n",
              "    <tr>\n",
              "      <th>1702</th>\n",
              "      <td>0.635</td>\n",
              "      <td>0.490</td>\n",
              "      <td>0.170</td>\n",
              "      <td>1.2615</td>\n",
              "      <td>0.5385</td>\n",
              "      <td>0.2665</td>\n",
              "      <td>0.380</td>\n",
              "    </tr>\n",
              "    <tr>\n",
              "      <th>670</th>\n",
              "      <td>0.475</td>\n",
              "      <td>0.385</td>\n",
              "      <td>0.145</td>\n",
              "      <td>0.6175</td>\n",
              "      <td>0.2350</td>\n",
              "      <td>0.1080</td>\n",
              "      <td>0.215</td>\n",
              "    </tr>\n",
              "    <tr>\n",
              "      <th>...</th>\n",
              "      <td>...</td>\n",
              "      <td>...</td>\n",
              "      <td>...</td>\n",
              "      <td>...</td>\n",
              "      <td>...</td>\n",
              "      <td>...</td>\n",
              "      <td>...</td>\n",
              "    </tr>\n",
              "    <tr>\n",
              "      <th>3093</th>\n",
              "      <td>0.520</td>\n",
              "      <td>0.430</td>\n",
              "      <td>0.150</td>\n",
              "      <td>0.7280</td>\n",
              "      <td>0.3020</td>\n",
              "      <td>0.1575</td>\n",
              "      <td>0.235</td>\n",
              "    </tr>\n",
              "    <tr>\n",
              "      <th>1651</th>\n",
              "      <td>0.595</td>\n",
              "      <td>0.435</td>\n",
              "      <td>0.150</td>\n",
              "      <td>0.9000</td>\n",
              "      <td>0.4175</td>\n",
              "      <td>0.1700</td>\n",
              "      <td>0.265</td>\n",
              "    </tr>\n",
              "    <tr>\n",
              "      <th>2897</th>\n",
              "      <td>0.545</td>\n",
              "      <td>0.430</td>\n",
              "      <td>0.150</td>\n",
              "      <td>0.7420</td>\n",
              "      <td>0.3525</td>\n",
              "      <td>0.1580</td>\n",
              "      <td>0.208</td>\n",
              "    </tr>\n",
              "    <tr>\n",
              "      <th>3953</th>\n",
              "      <td>0.465</td>\n",
              "      <td>0.355</td>\n",
              "      <td>0.120</td>\n",
              "      <td>0.5805</td>\n",
              "      <td>0.2550</td>\n",
              "      <td>0.0915</td>\n",
              "      <td>0.184</td>\n",
              "    </tr>\n",
              "    <tr>\n",
              "      <th>1830</th>\n",
              "      <td>0.365</td>\n",
              "      <td>0.275</td>\n",
              "      <td>0.085</td>\n",
              "      <td>0.2230</td>\n",
              "      <td>0.0980</td>\n",
              "      <td>0.0375</td>\n",
              "      <td>0.075</td>\n",
              "    </tr>\n",
              "  </tbody>\n",
              "</table>\n",
              "<p>836 rows × 7 columns</p>\n",
              "</div>\n",
              "      <button class=\"colab-df-convert\" onclick=\"convertToInteractive('df-cf41f5ac-5927-44d1-9a24-850bb3ca2630')\"\n",
              "              title=\"Convert this dataframe to an interactive table.\"\n",
              "              style=\"display:none;\">\n",
              "        \n",
              "  <svg xmlns=\"http://www.w3.org/2000/svg\" height=\"24px\"viewBox=\"0 0 24 24\"\n",
              "       width=\"24px\">\n",
              "    <path d=\"M0 0h24v24H0V0z\" fill=\"none\"/>\n",
              "    <path d=\"M18.56 5.44l.94 2.06.94-2.06 2.06-.94-2.06-.94-.94-2.06-.94 2.06-2.06.94zm-11 1L8.5 8.5l.94-2.06 2.06-.94-2.06-.94L8.5 2.5l-.94 2.06-2.06.94zm10 10l.94 2.06.94-2.06 2.06-.94-2.06-.94-.94-2.06-.94 2.06-2.06.94z\"/><path d=\"M17.41 7.96l-1.37-1.37c-.4-.4-.92-.59-1.43-.59-.52 0-1.04.2-1.43.59L10.3 9.45l-7.72 7.72c-.78.78-.78 2.05 0 2.83L4 21.41c.39.39.9.59 1.41.59.51 0 1.02-.2 1.41-.59l7.78-7.78 2.81-2.81c.8-.78.8-2.07 0-2.86zM5.41 20L4 18.59l7.72-7.72 1.47 1.35L5.41 20z\"/>\n",
              "  </svg>\n",
              "      </button>\n",
              "      \n",
              "  <style>\n",
              "    .colab-df-container {\n",
              "      display:flex;\n",
              "      flex-wrap:wrap;\n",
              "      gap: 12px;\n",
              "    }\n",
              "\n",
              "    .colab-df-convert {\n",
              "      background-color: #E8F0FE;\n",
              "      border: none;\n",
              "      border-radius: 50%;\n",
              "      cursor: pointer;\n",
              "      display: none;\n",
              "      fill: #1967D2;\n",
              "      height: 32px;\n",
              "      padding: 0 0 0 0;\n",
              "      width: 32px;\n",
              "    }\n",
              "\n",
              "    .colab-df-convert:hover {\n",
              "      background-color: #E2EBFA;\n",
              "      box-shadow: 0px 1px 2px rgba(60, 64, 67, 0.3), 0px 1px 3px 1px rgba(60, 64, 67, 0.15);\n",
              "      fill: #174EA6;\n",
              "    }\n",
              "\n",
              "    [theme=dark] .colab-df-convert {\n",
              "      background-color: #3B4455;\n",
              "      fill: #D2E3FC;\n",
              "    }\n",
              "\n",
              "    [theme=dark] .colab-df-convert:hover {\n",
              "      background-color: #434B5C;\n",
              "      box-shadow: 0px 1px 3px 1px rgba(0, 0, 0, 0.15);\n",
              "      filter: drop-shadow(0px 1px 2px rgba(0, 0, 0, 0.3));\n",
              "      fill: #FFFFFF;\n",
              "    }\n",
              "  </style>\n",
              "\n",
              "      <script>\n",
              "        const buttonEl =\n",
              "          document.querySelector('#df-cf41f5ac-5927-44d1-9a24-850bb3ca2630 button.colab-df-convert');\n",
              "        buttonEl.style.display =\n",
              "          google.colab.kernel.accessAllowed ? 'block' : 'none';\n",
              "\n",
              "        async function convertToInteractive(key) {\n",
              "          const element = document.querySelector('#df-cf41f5ac-5927-44d1-9a24-850bb3ca2630');\n",
              "          const dataTable =\n",
              "            await google.colab.kernel.invokeFunction('convertToInteractive',\n",
              "                                                     [key], {});\n",
              "          if (!dataTable) return;\n",
              "\n",
              "          const docLinkHtml = 'Like what you see? Visit the ' +\n",
              "            '<a target=\"_blank\" href=https://colab.research.google.com/notebooks/data_table.ipynb>data table notebook</a>'\n",
              "            + ' to learn more about interactive tables.';\n",
              "          element.innerHTML = '';\n",
              "          dataTable['output_type'] = 'display_data';\n",
              "          await google.colab.output.renderOutput(dataTable, element);\n",
              "          const docLink = document.createElement('div');\n",
              "          docLink.innerHTML = docLinkHtml;\n",
              "          element.appendChild(docLink);\n",
              "        }\n",
              "      </script>\n",
              "    </div>\n",
              "  </div>\n",
              "  "
            ]
          },
          "metadata": {},
          "execution_count": 35
        }
      ]
    },
    {
      "cell_type": "code",
      "source": [
        "y_test"
      ],
      "metadata": {
        "colab": {
          "base_uri": "https://localhost:8080/"
        },
        "id": "17FYWBz9-Loz",
        "outputId": "5d64b109-4ee0-4161-ea61-fec856f70645"
      },
      "execution_count": 36,
      "outputs": [
        {
          "output_type": "execute_result",
          "data": {
            "text/plain": [
              "866      9\n",
              "1483     8\n",
              "599     16\n",
              "1702     9\n",
              "670     14\n",
              "        ..\n",
              "3093    11\n",
              "1651     8\n",
              "2897    10\n",
              "3953     8\n",
              "1830     7\n",
              "Name: Rings, Length: 836, dtype: int64"
            ]
          },
          "metadata": {},
          "execution_count": 36
        }
      ]
    },
    {
      "cell_type": "code",
      "source": [
        "x_train.head()"
      ],
      "metadata": {
        "colab": {
          "base_uri": "https://localhost:8080/",
          "height": 206
        },
        "id": "0QxiWyoW_rwv",
        "outputId": "a08ee628-0380-422c-9a90-4ca49735fa32"
      },
      "execution_count": 37,
      "outputs": [
        {
          "output_type": "execute_result",
          "data": {
            "text/plain": [
              "      Length  Diameter  Height  Whole weight  Shucked weight  Viscera weight  \\\n",
              "4038   0.550     0.445   0.125        0.6720          0.2880          0.1365   \n",
              "1272   0.475     0.355   0.100        0.5035          0.2535          0.0910   \n",
              "3384   0.305     0.225   0.070        0.1485          0.0585          0.0335   \n",
              "3160   0.275     0.200   0.065        0.1165          0.0565          0.0130   \n",
              "3894   0.495     0.380   0.135        0.6295          0.2630          0.1425   \n",
              "\n",
              "      Shell weight  \n",
              "4038         0.210  \n",
              "1272         0.140  \n",
              "3384         0.045  \n",
              "3160         0.035  \n",
              "3894         0.215  "
            ],
            "text/html": [
              "\n",
              "  <div id=\"df-f45aafd1-effb-4fc6-b0a2-0be9434a476f\">\n",
              "    <div class=\"colab-df-container\">\n",
              "      <div>\n",
              "<style scoped>\n",
              "    .dataframe tbody tr th:only-of-type {\n",
              "        vertical-align: middle;\n",
              "    }\n",
              "\n",
              "    .dataframe tbody tr th {\n",
              "        vertical-align: top;\n",
              "    }\n",
              "\n",
              "    .dataframe thead th {\n",
              "        text-align: right;\n",
              "    }\n",
              "</style>\n",
              "<table border=\"1\" class=\"dataframe\">\n",
              "  <thead>\n",
              "    <tr style=\"text-align: right;\">\n",
              "      <th></th>\n",
              "      <th>Length</th>\n",
              "      <th>Diameter</th>\n",
              "      <th>Height</th>\n",
              "      <th>Whole weight</th>\n",
              "      <th>Shucked weight</th>\n",
              "      <th>Viscera weight</th>\n",
              "      <th>Shell weight</th>\n",
              "    </tr>\n",
              "  </thead>\n",
              "  <tbody>\n",
              "    <tr>\n",
              "      <th>4038</th>\n",
              "      <td>0.550</td>\n",
              "      <td>0.445</td>\n",
              "      <td>0.125</td>\n",
              "      <td>0.6720</td>\n",
              "      <td>0.2880</td>\n",
              "      <td>0.1365</td>\n",
              "      <td>0.210</td>\n",
              "    </tr>\n",
              "    <tr>\n",
              "      <th>1272</th>\n",
              "      <td>0.475</td>\n",
              "      <td>0.355</td>\n",
              "      <td>0.100</td>\n",
              "      <td>0.5035</td>\n",
              "      <td>0.2535</td>\n",
              "      <td>0.0910</td>\n",
              "      <td>0.140</td>\n",
              "    </tr>\n",
              "    <tr>\n",
              "      <th>3384</th>\n",
              "      <td>0.305</td>\n",
              "      <td>0.225</td>\n",
              "      <td>0.070</td>\n",
              "      <td>0.1485</td>\n",
              "      <td>0.0585</td>\n",
              "      <td>0.0335</td>\n",
              "      <td>0.045</td>\n",
              "    </tr>\n",
              "    <tr>\n",
              "      <th>3160</th>\n",
              "      <td>0.275</td>\n",
              "      <td>0.200</td>\n",
              "      <td>0.065</td>\n",
              "      <td>0.1165</td>\n",
              "      <td>0.0565</td>\n",
              "      <td>0.0130</td>\n",
              "      <td>0.035</td>\n",
              "    </tr>\n",
              "    <tr>\n",
              "      <th>3894</th>\n",
              "      <td>0.495</td>\n",
              "      <td>0.380</td>\n",
              "      <td>0.135</td>\n",
              "      <td>0.6295</td>\n",
              "      <td>0.2630</td>\n",
              "      <td>0.1425</td>\n",
              "      <td>0.215</td>\n",
              "    </tr>\n",
              "  </tbody>\n",
              "</table>\n",
              "</div>\n",
              "      <button class=\"colab-df-convert\" onclick=\"convertToInteractive('df-f45aafd1-effb-4fc6-b0a2-0be9434a476f')\"\n",
              "              title=\"Convert this dataframe to an interactive table.\"\n",
              "              style=\"display:none;\">\n",
              "        \n",
              "  <svg xmlns=\"http://www.w3.org/2000/svg\" height=\"24px\"viewBox=\"0 0 24 24\"\n",
              "       width=\"24px\">\n",
              "    <path d=\"M0 0h24v24H0V0z\" fill=\"none\"/>\n",
              "    <path d=\"M18.56 5.44l.94 2.06.94-2.06 2.06-.94-2.06-.94-.94-2.06-.94 2.06-2.06.94zm-11 1L8.5 8.5l.94-2.06 2.06-.94-2.06-.94L8.5 2.5l-.94 2.06-2.06.94zm10 10l.94 2.06.94-2.06 2.06-.94-2.06-.94-.94-2.06-.94 2.06-2.06.94z\"/><path d=\"M17.41 7.96l-1.37-1.37c-.4-.4-.92-.59-1.43-.59-.52 0-1.04.2-1.43.59L10.3 9.45l-7.72 7.72c-.78.78-.78 2.05 0 2.83L4 21.41c.39.39.9.59 1.41.59.51 0 1.02-.2 1.41-.59l7.78-7.78 2.81-2.81c.8-.78.8-2.07 0-2.86zM5.41 20L4 18.59l7.72-7.72 1.47 1.35L5.41 20z\"/>\n",
              "  </svg>\n",
              "      </button>\n",
              "      \n",
              "  <style>\n",
              "    .colab-df-container {\n",
              "      display:flex;\n",
              "      flex-wrap:wrap;\n",
              "      gap: 12px;\n",
              "    }\n",
              "\n",
              "    .colab-df-convert {\n",
              "      background-color: #E8F0FE;\n",
              "      border: none;\n",
              "      border-radius: 50%;\n",
              "      cursor: pointer;\n",
              "      display: none;\n",
              "      fill: #1967D2;\n",
              "      height: 32px;\n",
              "      padding: 0 0 0 0;\n",
              "      width: 32px;\n",
              "    }\n",
              "\n",
              "    .colab-df-convert:hover {\n",
              "      background-color: #E2EBFA;\n",
              "      box-shadow: 0px 1px 2px rgba(60, 64, 67, 0.3), 0px 1px 3px 1px rgba(60, 64, 67, 0.15);\n",
              "      fill: #174EA6;\n",
              "    }\n",
              "\n",
              "    [theme=dark] .colab-df-convert {\n",
              "      background-color: #3B4455;\n",
              "      fill: #D2E3FC;\n",
              "    }\n",
              "\n",
              "    [theme=dark] .colab-df-convert:hover {\n",
              "      background-color: #434B5C;\n",
              "      box-shadow: 0px 1px 3px 1px rgba(0, 0, 0, 0.15);\n",
              "      filter: drop-shadow(0px 1px 2px rgba(0, 0, 0, 0.3));\n",
              "      fill: #FFFFFF;\n",
              "    }\n",
              "  </style>\n",
              "\n",
              "      <script>\n",
              "        const buttonEl =\n",
              "          document.querySelector('#df-f45aafd1-effb-4fc6-b0a2-0be9434a476f button.colab-df-convert');\n",
              "        buttonEl.style.display =\n",
              "          google.colab.kernel.accessAllowed ? 'block' : 'none';\n",
              "\n",
              "        async function convertToInteractive(key) {\n",
              "          const element = document.querySelector('#df-f45aafd1-effb-4fc6-b0a2-0be9434a476f');\n",
              "          const dataTable =\n",
              "            await google.colab.kernel.invokeFunction('convertToInteractive',\n",
              "                                                     [key], {});\n",
              "          if (!dataTable) return;\n",
              "\n",
              "          const docLinkHtml = 'Like what you see? Visit the ' +\n",
              "            '<a target=\"_blank\" href=https://colab.research.google.com/notebooks/data_table.ipynb>data table notebook</a>'\n",
              "            + ' to learn more about interactive tables.';\n",
              "          element.innerHTML = '';\n",
              "          dataTable['output_type'] = 'display_data';\n",
              "          await google.colab.output.renderOutput(dataTable, element);\n",
              "          const docLink = document.createElement('div');\n",
              "          docLink.innerHTML = docLinkHtml;\n",
              "          element.appendChild(docLink);\n",
              "        }\n",
              "      </script>\n",
              "    </div>\n",
              "  </div>\n",
              "  "
            ]
          },
          "metadata": {},
          "execution_count": 37
        }
      ]
    },
    {
      "cell_type": "code",
      "source": [
        "x_test.head()"
      ],
      "metadata": {
        "colab": {
          "base_uri": "https://localhost:8080/",
          "height": 206
        },
        "id": "Y4FPitnz_sQB",
        "outputId": "00d4348a-eb28-4640-cafd-d66a016c2c58"
      },
      "execution_count": 38,
      "outputs": [
        {
          "output_type": "execute_result",
          "data": {
            "text/plain": [
              "      Length  Diameter  Height  Whole weight  Shucked weight  Viscera weight  \\\n",
              "866    0.605     0.455   0.160        1.1035          0.4210          0.3015   \n",
              "1483   0.590     0.440   0.150        0.8725          0.3870          0.2150   \n",
              "599    0.560     0.445   0.195        0.9810          0.3050          0.2245   \n",
              "1702   0.635     0.490   0.170        1.2615          0.5385          0.2665   \n",
              "670    0.475     0.385   0.145        0.6175          0.2350          0.1080   \n",
              "\n",
              "      Shell weight  \n",
              "866          0.325  \n",
              "1483         0.245  \n",
              "599          0.335  \n",
              "1702         0.380  \n",
              "670          0.215  "
            ],
            "text/html": [
              "\n",
              "  <div id=\"df-04641f98-62a2-44be-b241-e4178bb88605\">\n",
              "    <div class=\"colab-df-container\">\n",
              "      <div>\n",
              "<style scoped>\n",
              "    .dataframe tbody tr th:only-of-type {\n",
              "        vertical-align: middle;\n",
              "    }\n",
              "\n",
              "    .dataframe tbody tr th {\n",
              "        vertical-align: top;\n",
              "    }\n",
              "\n",
              "    .dataframe thead th {\n",
              "        text-align: right;\n",
              "    }\n",
              "</style>\n",
              "<table border=\"1\" class=\"dataframe\">\n",
              "  <thead>\n",
              "    <tr style=\"text-align: right;\">\n",
              "      <th></th>\n",
              "      <th>Length</th>\n",
              "      <th>Diameter</th>\n",
              "      <th>Height</th>\n",
              "      <th>Whole weight</th>\n",
              "      <th>Shucked weight</th>\n",
              "      <th>Viscera weight</th>\n",
              "      <th>Shell weight</th>\n",
              "    </tr>\n",
              "  </thead>\n",
              "  <tbody>\n",
              "    <tr>\n",
              "      <th>866</th>\n",
              "      <td>0.605</td>\n",
              "      <td>0.455</td>\n",
              "      <td>0.160</td>\n",
              "      <td>1.1035</td>\n",
              "      <td>0.4210</td>\n",
              "      <td>0.3015</td>\n",
              "      <td>0.325</td>\n",
              "    </tr>\n",
              "    <tr>\n",
              "      <th>1483</th>\n",
              "      <td>0.590</td>\n",
              "      <td>0.440</td>\n",
              "      <td>0.150</td>\n",
              "      <td>0.8725</td>\n",
              "      <td>0.3870</td>\n",
              "      <td>0.2150</td>\n",
              "      <td>0.245</td>\n",
              "    </tr>\n",
              "    <tr>\n",
              "      <th>599</th>\n",
              "      <td>0.560</td>\n",
              "      <td>0.445</td>\n",
              "      <td>0.195</td>\n",
              "      <td>0.9810</td>\n",
              "      <td>0.3050</td>\n",
              "      <td>0.2245</td>\n",
              "      <td>0.335</td>\n",
              "    </tr>\n",
              "    <tr>\n",
              "      <th>1702</th>\n",
              "      <td>0.635</td>\n",
              "      <td>0.490</td>\n",
              "      <td>0.170</td>\n",
              "      <td>1.2615</td>\n",
              "      <td>0.5385</td>\n",
              "      <td>0.2665</td>\n",
              "      <td>0.380</td>\n",
              "    </tr>\n",
              "    <tr>\n",
              "      <th>670</th>\n",
              "      <td>0.475</td>\n",
              "      <td>0.385</td>\n",
              "      <td>0.145</td>\n",
              "      <td>0.6175</td>\n",
              "      <td>0.2350</td>\n",
              "      <td>0.1080</td>\n",
              "      <td>0.215</td>\n",
              "    </tr>\n",
              "  </tbody>\n",
              "</table>\n",
              "</div>\n",
              "      <button class=\"colab-df-convert\" onclick=\"convertToInteractive('df-04641f98-62a2-44be-b241-e4178bb88605')\"\n",
              "              title=\"Convert this dataframe to an interactive table.\"\n",
              "              style=\"display:none;\">\n",
              "        \n",
              "  <svg xmlns=\"http://www.w3.org/2000/svg\" height=\"24px\"viewBox=\"0 0 24 24\"\n",
              "       width=\"24px\">\n",
              "    <path d=\"M0 0h24v24H0V0z\" fill=\"none\"/>\n",
              "    <path d=\"M18.56 5.44l.94 2.06.94-2.06 2.06-.94-2.06-.94-.94-2.06-.94 2.06-2.06.94zm-11 1L8.5 8.5l.94-2.06 2.06-.94-2.06-.94L8.5 2.5l-.94 2.06-2.06.94zm10 10l.94 2.06.94-2.06 2.06-.94-2.06-.94-.94-2.06-.94 2.06-2.06.94z\"/><path d=\"M17.41 7.96l-1.37-1.37c-.4-.4-.92-.59-1.43-.59-.52 0-1.04.2-1.43.59L10.3 9.45l-7.72 7.72c-.78.78-.78 2.05 0 2.83L4 21.41c.39.39.9.59 1.41.59.51 0 1.02-.2 1.41-.59l7.78-7.78 2.81-2.81c.8-.78.8-2.07 0-2.86zM5.41 20L4 18.59l7.72-7.72 1.47 1.35L5.41 20z\"/>\n",
              "  </svg>\n",
              "      </button>\n",
              "      \n",
              "  <style>\n",
              "    .colab-df-container {\n",
              "      display:flex;\n",
              "      flex-wrap:wrap;\n",
              "      gap: 12px;\n",
              "    }\n",
              "\n",
              "    .colab-df-convert {\n",
              "      background-color: #E8F0FE;\n",
              "      border: none;\n",
              "      border-radius: 50%;\n",
              "      cursor: pointer;\n",
              "      display: none;\n",
              "      fill: #1967D2;\n",
              "      height: 32px;\n",
              "      padding: 0 0 0 0;\n",
              "      width: 32px;\n",
              "    }\n",
              "\n",
              "    .colab-df-convert:hover {\n",
              "      background-color: #E2EBFA;\n",
              "      box-shadow: 0px 1px 2px rgba(60, 64, 67, 0.3), 0px 1px 3px 1px rgba(60, 64, 67, 0.15);\n",
              "      fill: #174EA6;\n",
              "    }\n",
              "\n",
              "    [theme=dark] .colab-df-convert {\n",
              "      background-color: #3B4455;\n",
              "      fill: #D2E3FC;\n",
              "    }\n",
              "\n",
              "    [theme=dark] .colab-df-convert:hover {\n",
              "      background-color: #434B5C;\n",
              "      box-shadow: 0px 1px 3px 1px rgba(0, 0, 0, 0.15);\n",
              "      filter: drop-shadow(0px 1px 2px rgba(0, 0, 0, 0.3));\n",
              "      fill: #FFFFFF;\n",
              "    }\n",
              "  </style>\n",
              "\n",
              "      <script>\n",
              "        const buttonEl =\n",
              "          document.querySelector('#df-04641f98-62a2-44be-b241-e4178bb88605 button.colab-df-convert');\n",
              "        buttonEl.style.display =\n",
              "          google.colab.kernel.accessAllowed ? 'block' : 'none';\n",
              "\n",
              "        async function convertToInteractive(key) {\n",
              "          const element = document.querySelector('#df-04641f98-62a2-44be-b241-e4178bb88605');\n",
              "          const dataTable =\n",
              "            await google.colab.kernel.invokeFunction('convertToInteractive',\n",
              "                                                     [key], {});\n",
              "          if (!dataTable) return;\n",
              "\n",
              "          const docLinkHtml = 'Like what you see? Visit the ' +\n",
              "            '<a target=\"_blank\" href=https://colab.research.google.com/notebooks/data_table.ipynb>data table notebook</a>'\n",
              "            + ' to learn more about interactive tables.';\n",
              "          element.innerHTML = '';\n",
              "          dataTable['output_type'] = 'display_data';\n",
              "          await google.colab.output.renderOutput(dataTable, element);\n",
              "          const docLink = document.createElement('div');\n",
              "          docLink.innerHTML = docLinkHtml;\n",
              "          element.appendChild(docLink);\n",
              "        }\n",
              "      </script>\n",
              "    </div>\n",
              "  </div>\n",
              "  "
            ]
          },
          "metadata": {},
          "execution_count": 38
        }
      ]
    },
    {
      "cell_type": "code",
      "source": [
        "x_test.shape,x_train.shape"
      ],
      "metadata": {
        "colab": {
          "base_uri": "https://localhost:8080/"
        },
        "id": "xeA0Ybm5_vA7",
        "outputId": "6676800a-7454-4bb1-bf59-ce7bc272829f"
      },
      "execution_count": 39,
      "outputs": [
        {
          "output_type": "execute_result",
          "data": {
            "text/plain": [
              "((836, 7), (3341, 7))"
            ]
          },
          "metadata": {},
          "execution_count": 39
        }
      ]
    },
    {
      "cell_type": "markdown",
      "source": [
        "**11.BUILD MODEL**"
      ],
      "metadata": {
        "id": "GvBQUCdr_0JJ"
      }
    },
    {
      "cell_type": "code",
      "source": [
        "from sklearn.tree import DecisionTreeClassifier\n",
        "from sklearn.ensemble import RandomForestClassifier\n",
        "from sklearn.linear_model import LogisticRegression\n",
        "from sklearn.naive_bayes import GaussianNB\n"
      ],
      "metadata": {
        "id": "6VJZjXOe_436"
      },
      "execution_count": 40,
      "outputs": []
    },
    {
      "cell_type": "code",
      "source": [
        "model = DecisionTreeClassifier()\n",
        "R_model  = RandomForestClassifier()\n",
        "log_reg = LogisticRegression()\n",
        "nb = GaussianNB()"
      ],
      "metadata": {
        "id": "8YpywqxG_wrz"
      },
      "execution_count": 41,
      "outputs": []
    },
    {
      "cell_type": "code",
      "source": [
        "model.fit(x_train,y_train)\n",
        "R_model.fit(x_train,y_train)\n",
        "log_reg.fit(x_train,y_train)\n",
        "nb.fit(x_train,y_train)\n"
      ],
      "metadata": {
        "colab": {
          "base_uri": "https://localhost:8080/"
        },
        "id": "nh5JNdDU_979",
        "outputId": "eab59075-3978-4dae-af0f-444607adeeed"
      },
      "execution_count": 42,
      "outputs": [
        {
          "output_type": "execute_result",
          "data": {
            "text/plain": [
              "GaussianNB()"
            ]
          },
          "metadata": {},
          "execution_count": 42
        }
      ]
    },
    {
      "cell_type": "code",
      "source": [
        "pred1 = model.predict(x_test)\n",
        "pred2= log_reg.predict(x_test)\n",
        "pred3=R_model.predict(x_test)\n",
        "pred4 = nb.predict(x_test)\n",
        "pred1,pred2,pred3,pred4"
      ],
      "metadata": {
        "colab": {
          "base_uri": "https://localhost:8080/"
        },
        "id": "okRy-77A__85",
        "outputId": "35ac618e-3f1a-49f3-ee8b-3fd27a0993d8"
      },
      "execution_count": 43,
      "outputs": [
        {
          "output_type": "execute_result",
          "data": {
            "text/plain": [
              "(array([ 9, 12, 17, 11, 14, 11,  8,  8,  5, 13, 12, 12,  8,  8,  7, 19, 10,\n",
              "        12, 11,  7, 18, 10, 11,  9,  9,  8,  9,  7, 10,  8, 13, 15,  8,  8,\n",
              "         9,  9,  6,  3,  7,  6, 10, 24,  9,  9, 10, 11,  8,  8, 15,  5,  5,\n",
              "        16,  9,  4,  7, 13, 10, 10, 10,  9, 12, 16,  9,  7,  7, 11,  4,  7,\n",
              "         8,  9,  9, 11, 10,  9,  6, 14, 16, 11, 10,  9, 14, 14, 11,  8,  6,\n",
              "        11,  9,  8, 13, 14, 13,  9,  9, 11, 11,  8,  8,  9, 12,  7, 10, 12,\n",
              "         9,  8,  9,  8, 12,  9,  9, 10, 10,  9, 10,  9, 10,  5,  9,  9, 10,\n",
              "         9,  8, 10,  8, 11, 14, 11, 10,  9, 11, 16, 14,  9, 11,  4,  5,  7,\n",
              "         9, 11,  5, 12,  8,  9, 11, 11, 11, 10, 12,  8,  9, 13,  8, 12, 16,\n",
              "        10, 11,  9,  8,  5,  8,  5, 12,  6,  9, 11,  7, 14, 11, 12,  8,  8,\n",
              "         8, 12,  9,  8,  7, 12,  9,  9, 10, 10, 14,  7,  6,  8,  7,  9,  8,\n",
              "        10, 11,  5,  8,  8, 17, 14,  9, 12, 11, 21, 12,  9,  8, 12, 13, 10,\n",
              "        10,  8, 11, 10,  8,  8,  6, 11, 20,  8, 10, 11, 10,  6, 13, 16, 17,\n",
              "        12, 16, 11, 10,  6,  8, 13, 10, 13,  4,  9, 10, 17,  6, 11, 14,  6,\n",
              "         5,  9,  9, 15, 10,  8, 10, 10, 12,  8, 13,  8,  9, 11, 17,  7, 10,\n",
              "        11,  9,  5, 20,  9, 13,  7,  8,  9, 11,  6,  7, 15, 12,  7, 10,  8,\n",
              "         8, 12,  8, 11,  9, 15, 12,  5, 14, 14,  8,  9,  5, 11, 14,  4, 11,\n",
              "        15,  8,  3, 15,  5, 11, 11,  4, 11,  8,  9, 14, 10,  6, 10, 10,  8,\n",
              "        15,  8,  6,  6,  9,  7,  6,  9,  8,  9,  5, 14,  8,  9, 13,  9,  7,\n",
              "         8,  8,  5,  9, 16, 11,  9, 10,  9,  7, 10, 11,  8,  8, 12,  9,  9,\n",
              "         8, 11, 11, 11,  9, 10, 10, 11, 10,  7,  9, 12,  9, 10, 11,  3,  7,\n",
              "         7,  4,  8, 10,  7, 20,  7,  9,  8, 11, 12,  8,  4, 14, 10, 12, 10,\n",
              "        11, 11,  8,  8,  8, 11,  8,  7,  7,  9, 11,  6, 10, 11,  8, 12,  9,\n",
              "         8, 10, 15,  8,  8, 11, 11, 13,  8,  9,  9,  9,  8,  7,  7, 11,  8,\n",
              "         9,  9, 17, 13,  7, 10, 10,  6,  5,  8, 11,  9,  8, 12, 17, 13,  8,\n",
              "        12,  9, 13, 10,  9, 11, 10, 14,  8, 12,  8, 11,  6, 10,  9,  7, 10,\n",
              "        11,  7, 11, 10,  7, 10, 11, 11,  9,  9,  6,  6,  7, 10,  8, 11, 13,\n",
              "         6,  7, 16, 10, 11,  9,  4, 11,  7,  8,  8,  8, 18,  6,  8, 11,  8,\n",
              "        16, 17,  7,  9, 14, 10,  8, 13,  7, 11, 11,  8, 10,  7, 10, 12,  6,\n",
              "         7,  9,  8, 12, 11, 10,  9,  8, 15,  7, 10,  9,  8, 10, 10, 11, 11,\n",
              "        10, 10,  8, 11, 10,  8,  4, 10,  8, 11,  7,  8, 11,  8,  5,  9, 12,\n",
              "        11, 20,  7,  8, 11,  5, 15, 16,  8, 13, 10, 14, 13,  7,  6,  9, 12,\n",
              "         5,  9,  8,  9, 11,  9,  7, 11, 17, 10,  6,  7, 12,  6, 13,  7,  7,\n",
              "        10, 10, 10, 12, 11, 17, 10,  8, 12,  9,  6, 13,  8,  9, 11,  7, 11,\n",
              "         6, 10,  6,  6,  6,  7, 10, 14,  7, 13, 12, 11, 10, 11,  9, 10, 10,\n",
              "        12,  7,  9,  5,  9, 11, 16,  9, 12,  9, 19, 11,  5, 11,  9,  7, 10,\n",
              "         4, 10,  8,  7, 23, 12,  7,  8,  9,  8, 15,  6,  9, 12, 17, 16,  9,\n",
              "        16,  8,  8, 11,  6, 15, 13,  8,  9,  7,  9,  8,  5,  5,  9, 10,  8,\n",
              "        15,  9,  8, 11, 12,  8,  5, 20, 17, 13,  6,  6,  9, 12, 10,  7, 11,\n",
              "        17, 12, 10, 12, 10,  4, 12,  7,  9,  9,  9,  8, 15,  7, 10, 10,  9,\n",
              "         9, 10,  6,  8, 10, 10, 11, 10,  7,  8, 13,  9, 11,  9, 17,  7, 13,\n",
              "        12, 17,  9, 12,  8, 10, 11, 10, 14,  6,  6,  9,  6, 10,  9,  9,  5,\n",
              "        10,  8, 11, 10,  8,  9, 10, 16,  8, 12, 11, 13, 12,  8,  6,  6, 13,\n",
              "        11,  7,  9,  8,  5, 13,  9, 10,  7, 10, 11,  6, 13, 10, 15,  7, 10,\n",
              "         9, 11,  5,  9, 10, 15,  9,  7,  9,  7, 10, 10,  9, 12,  8, 11, 14,\n",
              "        11, 11, 10,  8,  7, 10,  9, 13,  7, 11, 16,  4, 11, 16, 10, 15, 12,\n",
              "        17,  9, 20, 15, 13, 10,  6,  8,  2,  9, 20,  9,  9, 11, 13, 11,  9,\n",
              "         4, 10,  7, 13, 10, 10,  4,  8, 16,  9,  9, 10, 10, 17,  7, 10, 14,\n",
              "        10, 14,  9,  9, 10,  7, 19,  9,  7,  6,  3, 10,  9,  9, 13,  9, 10,\n",
              "         9,  8,  6]),\n",
              " array([10,  9, 10, 10,  8,  8,  8,  8,  7,  9,  9,  7, 10,  7,  8, 10, 10,\n",
              "         9, 11,  8, 11,  9, 10, 10,  9,  8,  8,  8,  9,  9, 10, 10,  7,  8,\n",
              "         8,  9,  6,  5,  8,  7, 11, 11, 10,  8, 10, 11,  9,  9, 10,  6,  7,\n",
              "        13,  8,  6,  7,  9, 10, 11,  9,  7, 10, 11,  9,  7,  8, 10,  6,  7,\n",
              "         8,  9, 10,  9,  7,  8,  7, 10, 11, 10, 10,  8,  8, 10, 10,  8,  7,\n",
              "         9,  9,  8, 11, 10,  8,  9, 10, 11, 10,  9,  8,  9,  8,  7, 10,  9,\n",
              "        11, 11,  9,  8, 10,  8, 10, 11, 11,  9,  9,  9,  8,  6,  8,  8, 10,\n",
              "        10, 10, 10,  9,  9,  8, 10,  9, 10,  9, 11,  9,  8, 10,  6,  6,  9,\n",
              "        10, 11,  6, 11,  8,  8,  9,  8, 10, 11,  9,  8,  9,  9,  8, 10,  9,\n",
              "         9,  9,  9, 10,  6,  8,  6,  9,  6,  9, 10,  7,  9, 11,  9, 10,  9,\n",
              "         9, 11,  9,  8,  8,  9,  9,  8,  9,  9,  9,  8,  7,  9,  8,  8,  8,\n",
              "        10,  9,  6,  8,  9, 11, 10,  9,  9, 10, 11, 10, 10,  8, 11,  9,  9,\n",
              "         7,  9, 10,  9,  8, 10,  6,  9, 11,  7, 10,  8, 11,  8, 10, 10, 10,\n",
              "         7, 11, 11,  8,  7,  8, 11,  9,  8,  6, 11, 10, 10,  7,  9,  8,  7,\n",
              "         6,  9,  9, 11,  9,  7,  9,  8,  8,  8,  8,  8,  8, 10, 10,  8, 10,\n",
              "        11, 10,  6, 11,  9, 10,  8,  8,  9,  8,  6,  6,  8,  9,  7,  9,  9,\n",
              "         7, 10,  8, 10, 10, 10, 10,  6, 10,  8,  9,  9,  6, 10, 10,  6,  9,\n",
              "        10, 10,  6, 10,  7,  9, 10,  6, 11,  7, 10, 10,  9,  7, 11,  9,  7,\n",
              "         9,  9,  6,  6,  9,  8,  7,  9,  9,  9,  6, 11,  9,  8,  9,  7,  7,\n",
              "         8,  9,  7, 10, 11,  8,  9,  8,  8,  7,  9,  9,  8, 10, 11,  9,  9,\n",
              "         9,  9, 11,  8,  8, 10,  9,  8, 10,  8,  9,  9,  9,  9, 10,  6,  7,\n",
              "         7,  5,  9,  9,  7, 10,  8,  9,  8, 10,  9,  9,  6, 11, 10,  8,  7,\n",
              "        10, 11,  8,  8,  8,  9, 10,  8,  9,  8, 10,  6, 11, 11,  8,  7,  9,\n",
              "         7,  8,  9,  8,  9,  9, 11, 10,  9, 10,  8,  9,  8,  8,  8, 10,  8,\n",
              "        11,  9, 10, 10,  7, 10, 10,  6,  6,  9, 10, 10,  8, 11,  9,  8,  9,\n",
              "         9, 10,  9, 10,  9, 10,  9, 11,  9, 11,  7, 10,  6,  9, 10,  6,  9,\n",
              "         9,  8, 11,  9,  8,  9, 10, 10,  9, 10,  6,  7,  6,  9,  7,  7,  9,\n",
              "         7,  7, 10, 10, 10,  8,  6,  8,  9,  7,  8,  9, 11,  8,  8, 10,  8,\n",
              "        11, 11,  8,  9, 10, 10,  8,  9,  8,  8, 10, 10,  9,  7, 10,  9,  7,\n",
              "         9,  8,  9, 10,  9,  6, 10,  8, 10,  6,  9,  8,  8,  7,  9, 11, 10,\n",
              "         8, 10,  9,  9,  7,  9,  6, 11,  9, 10,  9,  8, 11,  9,  8,  8,  8,\n",
              "        11, 10,  9,  8,  9,  6, 11,  9,  8, 10, 10,  9, 10,  8,  6,  9,  9,\n",
              "         6,  8,  8,  9, 11,  9,  7,  9, 10,  9,  7,  7, 10,  7,  8,  8,  8,\n",
              "         8,  7,  9,  8, 11, 10,  9,  6,  9,  8,  7,  8,  8,  8, 10,  6, 10,\n",
              "         7,  7,  8,  8,  7,  7, 11,  8,  8,  9,  8, 10, 10,  9,  9,  7,  7,\n",
              "         9,  7,  9,  8, 11,  7, 10,  9, 11, 11, 10, 11,  6, 11,  9,  8,  7,\n",
              "         6,  9,  9,  8,  9, 11,  7,  7, 10,  8,  9,  8,  9,  9, 10, 11,  9,\n",
              "        10,  8,  8,  9,  8,  9, 11,  8, 11,  8, 11,  8,  7,  6,  9, 10,  8,\n",
              "        11,  9, 10, 11, 11,  8,  6, 10, 10, 10,  6,  7, 10, 10, 10,  6, 10,\n",
              "        10,  9,  7, 10,  9,  6, 10,  8,  9,  9,  8,  8, 10,  8,  9, 11,  9,\n",
              "        10,  9,  6,  8, 11,  9, 11,  9,  8,  7,  9, 10,  9, 10, 10,  8,  9,\n",
              "         9, 10,  8,  9,  9,  9, 10, 11, 10,  7,  8,  9,  6, 11,  9,  9,  8,\n",
              "        11,  9, 11, 10,  9,  9, 10,  9,  8,  9, 10, 10, 10,  7,  7,  7,  9,\n",
              "         8,  9,  9,  8,  6, 10, 10,  9,  7, 11, 11,  7, 10, 10, 10,  6,  9,\n",
              "         9, 11,  6, 10, 10, 11, 11,  9, 11,  7, 10,  9,  9, 10,  9, 10,  9,\n",
              "         9,  8, 11,  7,  7,  9,  7,  9,  8,  9,  9,  6,  8, 11, 10, 10,  9,\n",
              "        10,  9, 10, 10, 10,  8,  7, 10,  5,  7, 11, 10, 10, 10, 10, 11,  9,\n",
              "         6, 11,  7,  9,  9,  7,  6,  9, 11,  9, 11, 11, 10, 10,  6, 11,  9,\n",
              "        11, 10,  8,  8,  9,  9, 11,  9,  7,  7,  6,  7,  8,  8,  9,  9,  9,\n",
              "         9,  8,  7]),\n",
              " array([ 9,  8, 12, 11, 12,  8,  9,  8,  7, 10, 12, 10, 13,  7,  7, 12, 10,\n",
              "        10, 11,  7, 10, 10, 10,  9,  9,  7, 11,  8,  9,  9, 10, 11,  8,  8,\n",
              "         8,  9,  6,  3,  7,  6, 11, 14, 11,  9, 10, 11,  8,  8, 13,  5,  6,\n",
              "        16,  8,  3,  7, 10, 10, 13, 10,  8, 10, 16,  9,  6,  7,  9,  4,  7,\n",
              "         8,  9, 10, 12,  7,  8,  7, 10, 16, 10, 10,  9, 14, 14, 11,  8,  6,\n",
              "        11,  8,  8, 11, 13, 11, 10,  9, 10, 10,  9,  6, 10, 12,  7, 10, 10,\n",
              "        11, 10,  8, 13, 10,  8, 11, 10,  9,  8, 10,  9,  8,  5,  9,  9, 10,\n",
              "        10, 10, 10,  8, 12, 11, 13, 10, 10, 11, 18, 10,  8,  9,  4,  5,  9,\n",
              "         9, 10,  5, 11,  8,  8,  8, 11, 10, 11, 11, 16,  9, 11,  9,  9,  9,\n",
              "        10,  8,  9, 10,  5,  8,  7, 10,  6, 10, 11,  7, 11, 17,  9, 10,  9,\n",
              "         9, 12, 13,  8,  7, 10,  8,  9, 10,  8, 10,  7,  6,  8,  7,  8,  8,\n",
              "        11,  9,  5,  8, 10, 11, 11,  9,  9, 11, 11, 12,  9,  8, 11, 13, 11,\n",
              "         7, 12, 11,  9,  8, 10,  5, 10, 11,  7, 10, 12, 11,  6,  8, 13, 10,\n",
              "        10, 14, 11,  8,  7,  8, 11, 10, 12,  4, 10, 10, 12,  6,  9,  9,  7,\n",
              "         5,  9,  9, 13,  8,  7,  8,  8,  9,  7,  9,  8,  7, 10, 10,  7, 11,\n",
              "        11,  9,  5, 11, 10, 13, 11,  8,  9,  9,  6,  5, 15, 10,  7, 10,  8,\n",
              "         6, 10,  8, 11, 10, 15,  9,  5, 17,  8, 10,  9,  5,  9, 10,  5,  9,\n",
              "        11, 11,  3, 17,  6,  9,  9,  4, 11,  6,  9,  9, 10,  7, 10,  8,  8,\n",
              "        10,  8,  5,  6,  8,  7,  7,  9, 10,  9,  4, 14, 10,  8, 10,  7,  7,\n",
              "         8, 11,  6, 13, 13,  8,  9,  8, 11,  7,  9, 10,  8,  8, 11,  9,  9,\n",
              "         9, 10, 11,  9,  9, 11,  9,  9, 10,  8, 10, 11,  9, 10, 11,  4,  7,\n",
              "         7,  4,  8, 11,  7, 13,  7,  9,  8, 11,  8, 10,  7, 16, 10,  8,  8,\n",
              "        10, 11,  8,  8,  9,  8,  8,  7,  9,  9, 10,  4, 10, 11,  9,  8, 10,\n",
              "         9,  9, 10,  8,  8, 10, 11, 11,  9, 11,  8, 10,  8,  7,  8,  9,  8,\n",
              "        10, 11, 12, 10,  6, 10, 10,  5,  5,  8, 11,  9,  8, 13,  9, 10,  8,\n",
              "         8, 13,  9, 11,  9, 11,  9, 14,  9, 10,  6, 10,  6,  9,  9,  6, 12,\n",
              "         9,  7, 10, 10,  7,  9, 11, 11,  8,  9,  7,  6,  7, 10,  8,  8, 13,\n",
              "         6,  7, 13, 10, 11,  7,  5, 11,  9,  8,  8, 11, 12,  8,  8, 11,  7,\n",
              "        16, 17,  8,  9,  9, 10,  8, 12, 11,  8, 10, 11,  9,  7,  9, 12,  6,\n",
              "        11, 13,  8, 11,  9,  7,  9,  8, 11,  4,  9,  9,  8,  8,  9, 11, 11,\n",
              "         8, 10,  9,  8, 10,  9,  4, 11,  9, 11, 10,  7, 13,  7,  5,  9,  9,\n",
              "        11, 20,  9,  8, 10,  5, 15,  8,  7, 13, 10,  9, 11,  7,  5,  9, 12,\n",
              "         6,  7,  8,  9, 11,  8,  7,  9, 12,  8,  6,  6, 10,  6,  8,  7,  8,\n",
              "         8,  7,  9,  7, 11, 11, 10,  5,  8,  9,  7,  8,  8,  9, 10,  7, 10,\n",
              "         7,  9,  9,  6,  6,  7, 12, 10, 10,  9,  9, 14, 10, 10,  9,  6,  8,\n",
              "         8,  6,  9,  7, 10,  5, 13,  9, 12, 17, 13, 11,  6, 11, 10,  7, 10,\n",
              "         3,  9,  9,  8, 14, 11,  7,  8,  9,  8,  8,  6,  8, 12, 14, 11,  9,\n",
              "        12,  9,  8, 10, 10,  9, 11,  9, 11,  8,  9,  8,  6,  5, 10,  9,  8,\n",
              "        11,  8,  8, 11, 12,  6,  5, 20, 11, 10,  5,  7,  9, 19, 10,  9, 10,\n",
              "        20,  8,  7, 12, 12,  4, 13,  7,  9,  9,  9,  8, 10,  8, 16, 11,  9,\n",
              "         9, 11,  5, 11, 13, 10, 17,  9,  8,  8, 10, 11, 12,  9, 14,  6, 12,\n",
              "        13, 13,  9, 12,  9,  9, 11, 10,  9,  6,  7,  9,  4, 10,  9,  9,  5,\n",
              "        11,  8, 11,  8, 10,  8, 10, 10,  8, 12, 11, 10, 11,  7,  6,  7, 13,\n",
              "         7, 10,  9, 15,  4, 10, 11,  9,  7, 10, 11,  6, 10, 10, 13,  9, 12,\n",
              "         8, 11,  7, 10, 10, 16, 11,  8, 11,  7, 11,  9, 10, 12,  9, 11, 10,\n",
              "        10,  8, 11,  6,  7,  9,  9, 10,  7,  8,  9,  4,  8, 11, 10, 15, 12,\n",
              "        10,  9, 12,  9, 12,  8,  6,  9,  3,  7, 16,  9,  8, 11, 13, 11,  9,\n",
              "         3, 12,  7, 12, 10, 10,  5,  8, 10, 12, 11, 11,  9, 10,  9, 10, 10,\n",
              "        11, 10,  8,  9,  9,  9, 10,  9,  7,  6,  3,  7,  8,  9, 10,  9, 11,\n",
              "         9,  8,  6]),\n",
              " array([10,  9, 10, 11,  8,  8,  8,  8,  5,  9,  9,  5,  8,  6,  8,  9,  9,\n",
              "         8, 11,  8, 27, 11, 11, 10,  9,  7,  8,  8,  9,  9, 10, 11,  5,  8,\n",
              "         7,  9,  5,  3,  7,  5, 11, 27, 11,  8,  9, 11,  9,  9,  9,  4,  5,\n",
              "        17,  8,  3,  6,  9, 10, 11,  9,  5, 11, 11, 10,  6,  7, 11,  4,  5,\n",
              "         8,  9, 11,  8,  7,  7,  6, 11, 20, 11, 10,  8,  8, 10, 11,  7,  6,\n",
              "         9,  9,  8, 11,  9,  7,  9, 11, 11, 11,  9,  7,  9,  8,  5, 10,  9,\n",
              "        11, 11,  8,  7, 11,  8, 11, 11, 11,  9, 10,  9,  7,  4,  7,  8, 11,\n",
              "        10, 11, 11,  9,  9,  7,  9, 10, 11,  9, 20,  9,  8, 10,  4,  5,  8,\n",
              "        11, 11,  4, 11,  7,  8,  8,  8, 11, 11,  9,  8,  8,  9,  7, 10,  9,\n",
              "         9,  9,  9, 10,  5,  8,  5,  9,  5, 10, 10,  6, 10, 11, 10, 10,  9,\n",
              "         9, 11,  9,  7,  7,  8,  8,  8,  9,  9,  8,  7,  6,  9,  7,  7,  7,\n",
              "        11,  9,  4,  8,  9, 11, 11,  9,  9, 10, 11, 11, 11,  8, 11,  9,  9,\n",
              "         6,  9, 11, 10,  8, 10,  5,  9, 11,  6, 11,  8, 11,  7,  9, 20, 10,\n",
              "         7, 11, 11,  7,  6,  7, 11,  9,  8,  4, 11, 11, 10,  5,  9,  7,  5,\n",
              "         4,  9,  9, 11,  9,  6,  9,  7,  8,  7,  7,  7,  7, 11, 10,  6, 10,\n",
              "        11, 11,  4, 11,  9,  9,  8,  7,  9,  8,  5,  4,  8, 10,  6, 10,  9,\n",
              "         6, 10,  8, 11, 11, 10, 11,  4,  9,  7,  9,  9,  4,  9, 10,  3,  9,\n",
              "        11, 11,  3, 10,  6,  9, 11,  4, 27,  6, 11, 10, 10,  6, 11,  9,  6,\n",
              "         9,  8,  5,  4,  9,  7,  6,  9,  9,  9,  4, 11,  9,  8,  9,  6,  6,\n",
              "         8,  9,  5, 10, 27,  7,  9,  8,  7,  6,  9,  8,  7,  9, 11,  9,  9,\n",
              "        11,  9, 11,  7,  7, 11,  9,  8, 10,  8,  9,  9,  9,  9, 11,  3,  6,\n",
              "         6,  3,  9,  9,  6,  9,  7,  9,  7, 11,  9,  9,  5, 18, 11,  7,  5,\n",
              "        11, 11,  7,  8,  8,  9,  9,  7,  8,  8, 11,  4, 11, 24,  7,  7,  8,\n",
              "         7,  7,  9,  8,  9,  9, 11, 10,  9, 11,  7,  9,  8,  7,  7, 11,  7,\n",
              "        24, 10, 10,  9,  6, 11, 10,  5,  3,  9, 11, 10,  7, 11,  9,  8,  9,\n",
              "         9,  9, 11, 11,  9, 11,  9, 11, 10, 11,  6,  9,  5, 10, 11,  5,  9,\n",
              "        11,  7, 11,  9,  8,  9, 11, 11,  8, 10,  5,  6,  5,  9,  6,  6,  8,\n",
              "         6,  6, 10, 11, 11,  8,  5,  8,  9,  6,  8,  9, 11,  8,  7, 11,  7,\n",
              "        20, 17,  7,  9,  9, 11,  7,  8,  7,  7, 10, 11, 11,  5,  9,  8,  6,\n",
              "         8,  8,  9, 11, 10,  5, 11,  7, 10,  3,  9,  8,  8,  6,  9, 11, 11,\n",
              "         8,  9,  9,  9,  5,  9,  3, 11, 10, 11,  8,  7, 11,  8,  6,  7,  7,\n",
              "        11, 10,  9,  7, 10,  3, 11,  8,  7, 11, 10, 11, 11,  7,  4,  9,  8,\n",
              "         4,  7,  7,  8, 11,  9,  5,  9, 10,  9,  6,  6, 11,  5,  7,  7,  8,\n",
              "         7,  6,  9,  7, 11, 10,  8,  5,  9,  8,  7,  7,  7,  8, 11,  5, 11,\n",
              "         5,  6,  7,  7,  6,  6, 11,  8,  8, 10,  7, 10,  9,  9,  9,  6,  6,\n",
              "         9,  6,  9,  7, 11,  5,  9,  9, 12, 11,  9, 11,  5, 11,  9,  7,  6,\n",
              "         3,  9,  8,  8,  9, 27,  5,  6, 11,  7,  9,  7,  8, 10, 10, 11,  9,\n",
              "         9,  8,  8, 11,  7,  8, 11,  8, 11,  7, 11,  7,  5,  4,  9, 11,  8,\n",
              "        11,  9,  9, 11, 11,  6,  4, 11, 10, 11,  5,  6, 11,  9, 10,  5, 10,\n",
              "        10,  9,  6,  9,  8,  3,  9,  7,  8,  9,  7,  7, 10,  8,  9, 11,  9,\n",
              "        11, 11,  4,  8, 11,  9, 11,  9,  7,  6,  8, 11,  9, 11,  9,  7, 11,\n",
              "         8,  9,  7,  8,  9,  9, 11, 11, 10,  6,  7,  9,  4, 11,  9,  9,  7,\n",
              "        11,  9, 11,  9, 10,  9, 11,  9,  8, 10, 11, 10, 11,  6,  6,  6,  8,\n",
              "         6,  9,  9,  8,  4, 11,  9, 10,  6, 11, 11,  5,  9,  9,  9,  5, 11,\n",
              "         9, 11,  5, 11,  9, 20, 11,  9, 11,  6, 11,  9,  9, 11,  9, 11,  9,\n",
              "         9,  8, 11,  6,  6,  9,  7,  8,  7,  9,  9,  3,  8, 11,  9, 10,  8,\n",
              "        11,  9, 20, 10, 10,  7,  6, 10,  3,  5, 20, 11, 10, 11,  9, 24,  9,\n",
              "         3, 11,  5,  8,  9,  5,  3,  9, 11, 11, 11, 11, 11,  9,  5, 11,  9,\n",
              "        11, 10,  7,  7,  9,  9, 11,  9,  5,  5,  3,  5,  7,  8,  8,  9,  9,\n",
              "         9,  7,  6]))"
            ]
          },
          "metadata": {},
          "execution_count": 43
        }
      ]
    },
    {
      "cell_type": "markdown",
      "source": [
        "**12.TRAIN THE MODEL**"
      ],
      "metadata": {
        "id": "THmc4Tt4AQU2"
      }
    },
    {
      "cell_type": "code",
      "source": [
        "from sklearn.metrics import accuracy_score,precision_score,confusion_matrix"
      ],
      "metadata": {
        "id": "pTqU4nF1AU5e"
      },
      "execution_count": 44,
      "outputs": []
    },
    {
      "cell_type": "code",
      "source": [
        "tr_pred1=model.predict(x_train)\n",
        "a=accuracy_score(y_train,tr_pred1)\n",
        "print(\"Accuracy_score\",a)"
      ],
      "metadata": {
        "colab": {
          "base_uri": "https://localhost:8080/"
        },
        "id": "1K7uyCvkADFM",
        "outputId": "ad0a3bb3-88e0-41b9-99ed-12baadc27211"
      },
      "execution_count": 45,
      "outputs": [
        {
          "output_type": "stream",
          "name": "stdout",
          "text": [
            "Accuracy_score 1.0\n"
          ]
        }
      ]
    },
    {
      "cell_type": "code",
      "source": [
        "tr_pred2=R_model.predict(x_train)\n",
        "a=accuracy_score(y_train,tr_pred2)\n",
        "print(\"Accuracy_score\",a)"
      ],
      "metadata": {
        "colab": {
          "base_uri": "https://localhost:8080/"
        },
        "id": "__AqxmRhAW3m",
        "outputId": "a97a83f9-d0bd-4649-edd3-0ad50466b000"
      },
      "execution_count": 46,
      "outputs": [
        {
          "output_type": "stream",
          "name": "stdout",
          "text": [
            "Accuracy_score 1.0\n"
          ]
        }
      ]
    },
    {
      "cell_type": "code",
      "source": [
        "tr_pred3=log_reg.predict(x_train)\n",
        "a=accuracy_score(y_train,tr_pred3)\n",
        "print(\"Accuracy_score\",a)"
      ],
      "metadata": {
        "colab": {
          "base_uri": "https://localhost:8080/"
        },
        "id": "P6D3wSWCAYb6",
        "outputId": "2bfa1661-2267-4bdc-df0b-a7d0cd408be5"
      },
      "execution_count": 47,
      "outputs": [
        {
          "output_type": "stream",
          "name": "stdout",
          "text": [
            "Accuracy_score 0.2627955701885663\n"
          ]
        }
      ]
    },
    {
      "cell_type": "code",
      "source": [
        "tr_pred4=nb.predict(x_train)\n",
        "a=accuracy_score(y_train,tr_pred4)\n",
        "print(\"Accuracy_score\",a)"
      ],
      "metadata": {
        "colab": {
          "base_uri": "https://localhost:8080/"
        },
        "id": "07JH3l2xAaz7",
        "outputId": "d18c05b7-5c70-46e0-a6b4-4d4cc8f35da9"
      },
      "execution_count": 48,
      "outputs": [
        {
          "output_type": "stream",
          "name": "stdout",
          "text": [
            "Accuracy_score 0.2478299910206525\n"
          ]
        }
      ]
    },
    {
      "cell_type": "markdown",
      "source": [
        "**13.TEST THE MODEL**"
      ],
      "metadata": {
        "id": "XUzeW0DUA107"
      }
    },
    {
      "cell_type": "code",
      "source": [
        "tr_pred1=model.predict(x_test)\n",
        "a=accuracy_score(y_test,tr_pred1)\n",
        "print(\"Accuracy_score\",a)"
      ],
      "metadata": {
        "colab": {
          "base_uri": "https://localhost:8080/"
        },
        "id": "pOy0SaAbA6dA",
        "outputId": "e5eb6c00-8765-43ae-fdf5-0ff46facde0b"
      },
      "execution_count": 49,
      "outputs": [
        {
          "output_type": "stream",
          "name": "stdout",
          "text": [
            "Accuracy_score 0.21052631578947367\n"
          ]
        }
      ]
    },
    {
      "cell_type": "code",
      "source": [
        "tr_pred2=R_model.predict(x_test)\n",
        "a=accuracy_score(y_test,tr_pred2)\n",
        "print(\"Accuracy_score\",a)"
      ],
      "metadata": {
        "colab": {
          "base_uri": "https://localhost:8080/"
        },
        "id": "xTSjcab0Acbp",
        "outputId": "7ba0a876-e966-444f-eea9-2df3de23c77f"
      },
      "execution_count": 50,
      "outputs": [
        {
          "output_type": "stream",
          "name": "stdout",
          "text": [
            "Accuracy_score 0.24880382775119617\n"
          ]
        }
      ]
    },
    {
      "cell_type": "code",
      "source": [
        "tr_pred3=log_reg.predict(x_test)\n",
        "a=accuracy_score(y_test,tr_pred3)\n",
        "print(\"Accuracy_score\",a)"
      ],
      "metadata": {
        "colab": {
          "base_uri": "https://localhost:8080/"
        },
        "id": "e_wKLN2iA_Ja",
        "outputId": "97ce576c-14e1-4419-f211-c03f3320e8c4"
      },
      "execution_count": 51,
      "outputs": [
        {
          "output_type": "stream",
          "name": "stdout",
          "text": [
            "Accuracy_score 0.2607655502392344\n"
          ]
        }
      ]
    },
    {
      "cell_type": "code",
      "source": [
        "tr_pred4=nb.predict(x_test)\n",
        "a=accuracy_score(y_test,tr_pred4)\n",
        "print(\"Accuracy_score\",a)"
      ],
      "metadata": {
        "colab": {
          "base_uri": "https://localhost:8080/"
        },
        "id": "4_8HgbE7BAq7",
        "outputId": "727da1b5-9aeb-4745-9dbc-852f66588fa9"
      },
      "execution_count": 52,
      "outputs": [
        {
          "output_type": "stream",
          "name": "stdout",
          "text": [
            "Accuracy_score 0.23564593301435408\n"
          ]
        }
      ]
    },
    {
      "cell_type": "markdown",
      "source": [
        "**14.MEASURE THE PERFORMANCE OF METRICS**"
      ],
      "metadata": {
        "id": "HyddQn_WBGKz"
      }
    },
    {
      "cell_type": "code",
      "source": [
        "print(\"Accuracy score :\",accuracy_score(y_test,pred1))\n",
        "print(\"Precision score :\",precision_score(y_test,pred1,average=\"macro\"))\n",
        "print(\"Confustion matrix :\",confusion_matrix(y_test,pred1))"
      ],
      "metadata": {
        "colab": {
          "base_uri": "https://localhost:8080/"
        },
        "id": "ld42ZsluBNv0",
        "outputId": "7e169133-7732-4d1e-9ec6-31c65a9492e6"
      },
      "execution_count": 53,
      "outputs": [
        {
          "output_type": "stream",
          "name": "stdout",
          "text": [
            "Accuracy score : 0.21052631578947367\n",
            "Precision score : 0.13043272477034015\n",
            "Confustion matrix : [[ 0  0  0  0  0  0  0  0  0  0  0  0  0  0  0  0  0  0  0  0  0  0  0]\n",
            " [ 0  2  1  0  0  0  0  0  0  0  0  0  0  0  0  0  0  0  0  0  0  0  0]\n",
            " [ 1  1  4  5  1  1  0  0  0  0  0  0  0  0  0  0  0  0  0  0  0  0  0]\n",
            " [ 0  1  9  8  9  4  0  1  0  0  0  0  0  0  0  0  0  0  0  0  0  0  0]\n",
            " [ 0  0  0  9 11 10 10  3  4  1  0  0  0  0  0  0  0  0  0  0  0  0  0]\n",
            " [ 0  0  0  4 15 23 17 10  5  4  4  1  0  1  0  0  0  0  0  0  0  0  0]\n",
            " [ 0  0  1  1  7 12 32 26  8  7  4  0  1  0  0  0  0  0  0  0  0  0  0]\n",
            " [ 0  0  0  1  2 10 21 34 28 20 10  7  5  1  1  1  0  1  0  0  0  0  0]\n",
            " [ 0  0  0  0  1  2 24 26 27 24 10  9  5  5  2  2  1  0  1  0  0  0  0]\n",
            " [ 0  0  0  0  0  6  4 21 23 20  4  4  2  2  4  1  0  1  0  1  0  0  0]\n",
            " [ 0  0  0  0  0  2  6  3 11  6  7  5  1  0  4  2  0  0  2  0  0  1  1]\n",
            " [ 0  0  0  0  0  2  4  4  2  6  3  3  3  1  1  2  0  0  0  0  0  0  0]\n",
            " [ 0  0  0  0  0  0  2  4  1  7  4  1  1  3  1  2  0  0  0  0  0  0  0]\n",
            " [ 0  0  0  0  0  0  1  2  6  2  0  3  3  2  0  1  0  0  1  0  0  0  0]\n",
            " [ 0  0  0  0  0  1  0  0  0  2  1  0  0  1  2  4  0  0  2  0  0  0  0]\n",
            " [ 0  0  0  0  0  0  0  2  1  1  3  0  0  0  1  0  0  0  0  0  0  0  0]\n",
            " [ 0  0  0  0  0  0  0  1  2  1  1  1  2  2  0  1  0  1  0  0  0  0  0]\n",
            " [ 0  0  0  0  0  0  0  0  2  0  1  2  0  1  0  0  0  0  1  0  0  0  0]\n",
            " [ 0  0  0  0  0  0  0  0  0  2  0  0  0  0  0  1  1  0  0  0  0  0  0]\n",
            " [ 0  0  0  0  0  0  0  0  1  1  0  0  1  0  0  0  0  0  0  0  0  0  0]\n",
            " [ 0  0  0  0  0  0  0  1  0  0  1  0  0  0  1  0  0  0  0  0  0  0  0]\n",
            " [ 0  0  0  0  0  0  0  0  0  0  1  1  1  0  1  0  0  0  0  0  0  0  0]\n",
            " [ 0  0  0  0  0  0  0  0  0  0  0  0  0  0  0  0  0  0  0  0  0  0  0]]\n"
          ]
        }
      ]
    },
    {
      "cell_type": "code",
      "source": [
        "print(\"Accuracy score :\",accuracy_score(y_test,pred2))\n",
        "print(\"Precision score :\",precision_score(y_test,pred2,average=\"macro\"))\n",
        "print(\"Confustion matrix :\",confusion_matrix(y_test,pred2))"
      ],
      "metadata": {
        "colab": {
          "base_uri": "https://localhost:8080/"
        },
        "id": "sAZ9rkKnBCYe",
        "outputId": "a2161da9-a9c8-4b00-9aec-a7d12eaf964a"
      },
      "execution_count": 54,
      "outputs": [
        {
          "output_type": "stream",
          "name": "stdout",
          "text": [
            "Accuracy score : 0.2607655502392344\n",
            "Precision score : 0.07520696001237971\n",
            "Confustion matrix : [[ 0  0  2  1  0  0  0  0  0  0  0  0  0  0  0  0  0  0  0  0  0]\n",
            " [ 0  0  1 12  0  0  0  0  0  0  0  0  0  0  0  0  0  0  0  0  0]\n",
            " [ 0  0  0 24  6  2  0  0  0  0  0  0  0  0  0  0  0  0  0  0  0]\n",
            " [ 0  0  0 12 22 12  2  0  0  0  0  0  0  0  0  0  0  0  0  0  0]\n",
            " [ 0  0  0  5 32 35 12  0  0  0  0  0  0  0  0  0  0  0  0  0  0]\n",
            " [ 0  0  0  3  6 46 36  7  1  0  0  0  0  0  0  0  0  0  0  0  0]\n",
            " [ 0  0  0  2 12 28 60 35  5  0  0  0  0  0  0  0  0  0  0  0  0]\n",
            " [ 0  0  0  0  8 20 50 42 19  0  0  0  0  0  0  0  0  0  0  0  0]\n",
            " [ 0  0  0  2  2 10 26 27 26  0  0  0  0  0  0  0  0  0  0  0  0]\n",
            " [ 0  0  0  0  1  6 15 17 12  0  0  0  0  0  0  0  0  0  0  0  0]\n",
            " [ 0  0  0  0  2  4  9  8  8  0  0  0  0  0  0  0  0  0  0  0  0]\n",
            " [ 0  0  0  0  0  4  9  9  4  0  0  0  0  0  0  0  0  0  0  0  0]\n",
            " [ 0  0  0  0  0  1  6 12  2  0  0  0  0  0  0  0  0  0  0  0  0]\n",
            " [ 0  0  0  0  0  1  0  8  4  0  0  0  0  0  0  0  0  0  0  0  0]\n",
            " [ 0  0  0  0  0  0  1  3  4  0  0  0  0  0  0  0  0  0  0  0  0]\n",
            " [ 0  0  0  0  0  0  4  6  2  0  0  0  0  0  0  0  0  0  0  0  0]\n",
            " [ 0  0  0  0  0  0  1  3  3  0  0  0  0  0  0  0  0  0  0  0  0]\n",
            " [ 0  0  0  0  0  0  0  3  1  0  0  0  0  0  0  0  0  0  0  0  0]\n",
            " [ 0  0  0  0  0  1  0  0  2  0  0  0  0  0  0  0  0  0  0  0  0]\n",
            " [ 0  0  0  0  0  0  2  0  0  0  1  0  0  0  0  0  0  0  0  0  0]\n",
            " [ 0  0  0  0  0  0  0  1  3  0  0  0  0  0  0  0  0  0  0  0  0]]\n"
          ]
        }
      ]
    },
    {
      "cell_type": "code",
      "source": [
        "print(\"Accuracy score :\",accuracy_score(y_test,pred3))\n",
        "print(\"Precision score :\",precision_score(y_test,pred3,average=\"macro\"))\n",
        "print(\"Confustion matrix :\",confusion_matrix(y_test,pred3))"
      ],
      "metadata": {
        "colab": {
          "base_uri": "https://localhost:8080/"
        },
        "id": "XLq9DRSkBQbS",
        "outputId": "e513e801-e0d1-40ac-dbc2-2c8ff72d3a81"
      },
      "execution_count": 55,
      "outputs": [
        {
          "output_type": "stream",
          "name": "stdout",
          "text": [
            "Accuracy score : 0.24880382775119617\n",
            "Precision score : 0.14438318115508678\n",
            "Confustion matrix : [[ 1  2  0  0  0  0  0  0  0  0  0  0  0  0  0  0  0  0  0  0  0]\n",
            " [ 3  3  7  0  0  0  0  0  0  0  0  0  0  0  0  0  0  0  0  0  0]\n",
            " [ 3  8 12  4  4  0  1  0  0  0  0  0  0  0  0  0  0  0  0  0  0]\n",
            " [ 0  1  5 15 14  9  4  0  0  0  0  0  0  0  0  0  0  0  0  0  0]\n",
            " [ 0  0  3 17 26 19 13  4  1  1  0  0  0  0  0  0  0  0  0  0  0]\n",
            " [ 0  0  1  2 16 38 26 10  6  0  0  0  0  0  0  0  0  0  0  0  0]\n",
            " [ 0  0  0  2  9 34 41 37 13  3  2  0  1  0  0  0  0  0  0  0  0]\n",
            " [ 0  0  0  2  5 21 37 34 24  8  5  0  0  2  0  1  0  0  0  0  0]\n",
            " [ 0  0  0  0  3  7 22 18 28  6  6  2  0  0  1  0  0  0  0  0  0]\n",
            " [ 0  0  0  1  1  6  5 15 11  6  3  3  0  0  0  0  0  0  0  0  0]\n",
            " [ 0  0  0  0  2  2  3  9  9  2  1  1  0  2  0  0  0  0  0  0  0]\n",
            " [ 0  0  0  0  0  2  4  6  6  4  0  1  2  1  0  0  0  0  0  0  0]\n",
            " [ 0  0  0  0  0  0  2  7  3  1  3  2  0  1  2  0  0  0  0  0  0]\n",
            " [ 0  0  0  0  0  0  0  0  5  2  1  0  1  1  1  0  1  1  0  0  0]\n",
            " [ 0  0  0  0  0  0  1  1  3  0  2  0  0  0  1  0  0  0  0  0  0]\n",
            " [ 0  0  0  0  0  0  1  3  2  3  2  0  0  0  0  0  0  1  0  0  0]\n",
            " [ 0  0  0  0  0  0  0  1  1  1  2  0  1  0  0  0  0  1  0  0  0]\n",
            " [ 0  0  0  0  0  0  0  2  0  0  2  0  0  0  0  0  0  0  0  0  0]\n",
            " [ 0  0  0  0  0  0  0  1  0  0  1  0  0  0  1  0  0  0  0  0  0]\n",
            " [ 0  0  0  0  0  0  1  0  0  1  0  0  0  1  0  0  0  0  0  0  0]\n",
            " [ 0  0  0  0  0  0  0  0  1  1  0  1  0  1  0  0  0  0  0  0  0]]\n"
          ]
        }
      ]
    },
    {
      "cell_type": "code",
      "source": [
        "print(\"Accuracy score :\",accuracy_score(y_test,pred4))\n",
        "print(\"Precision score :\",precision_score(y_test,pred4,average=\"macro\"))\n",
        "print(\"Confustion matrix :\",confusion_matrix(y_test,pred4))"
      ],
      "metadata": {
        "colab": {
          "base_uri": "https://localhost:8080/"
        },
        "id": "ik3ery9dBS72",
        "outputId": "f575bb46-8408-4fba-9750-6982bcb1c98f"
      },
      "execution_count": 56,
      "outputs": [
        {
          "output_type": "stream",
          "name": "stdout",
          "text": [
            "Accuracy score : 0.23564593301435408\n",
            "Precision score : 0.08730741734741142\n",
            "Confustion matrix : [[ 3  0  0  0  0  0  0  0  0  0  0  0  0  0  0  0  0  0  0  0  0  0  0]\n",
            " [ 8  5  0  0  0  0  0  0  0  0  0  0  0  0  0  0  0  0  0  0  0  0  0]\n",
            " [ 6 13  9  3  1  0  0  0  0  0  0  0  0  0  0  0  0  0  0  0  0  0  0]\n",
            " [ 0  4 18 11 12  2  1  0  0  0  0  0  0  0  0  0  0  0  0  0  0  0  0]\n",
            " [ 0  1 14 22 26 14  7  0  0  0  0  0  0  0  0  0  0  0  0  0  0  0  0]\n",
            " [ 0  0  3  6 23 26 34  2  5  0  0  0  0  0  0  0  0  0  0  0  0  0  0]\n",
            " [ 0  0  3 10 17 17 50 19 25  0  0  0  0  0  0  0  0  0  0  0  0  1  0]\n",
            " [ 0  0  1  6 12 16 38 18 45  0  0  0  0  0  0  0  0  3  0  0  0  0  0]\n",
            " [ 0  0  2  2  4  9 20  7 49  0  0  0  0  0  0  0  0  0  0  0  0  0  0]\n",
            " [ 0  0  0  1  3  6 14  5 19  0  0  0  0  0  0  0  0  1  0  0  0  1  1]\n",
            " [ 0  0  1  1  3  3  6  7 10  0  0  0  0  0  0  0  0  0  0  0  0  0  0]\n",
            " [ 0  0  0  0  0  7  9  3  5  0  0  0  0  0  0  0  0  0  0  0  0  1  1]\n",
            " [ 0  0  0  0  0  5  7  7  1  0  0  0  0  0  0  1  0  0  0  0  0  0  0]\n",
            " [ 0  0  0  0  0  1  2  3  4  0  0  0  0  0  1  0  0  2  0  0  0  0  0]\n",
            " [ 0  0  0  0  0  0  3  0  3  0  0  0  0  0  0  0  0  0  0  0  0  0  2]\n",
            " [ 0  0  0  0  0  2  4  2  4  0  0  0  0  0  0  0  0  0  0  0  0  0  0]\n",
            " [ 0  0  0  0  0  0  3  1  3  0  0  0  0  0  0  0  0  0  0  0  0  0  0]\n",
            " [ 0  0  0  0  0  0  2  0  1  0  0  0  0  0  0  0  0  0  0  0  0  0  1]\n",
            " [ 0  0  0  0  0  1  0  0  2  0  0  0  0  0  0  0  0  0  0  0  0  0  0]\n",
            " [ 0  0  0  0  0  0  2  0  0  0  0  0  0  0  1  0  0  0  0  0  0  0  0]\n",
            " [ 0  0  0  0  0  0  0  1  1  1  0  0  0  0  0  0  0  1  0  0  0  0  0]\n",
            " [ 0  0  0  0  0  0  0  0  0  0  0  0  0  0  0  0  0  0  0  0  0  0  0]\n",
            " [ 0  0  0  0  0  0  0  0  0  0  0  0  0  0  0  0  0  0  0  0  0  0  0]]\n"
          ]
        }
      ]
    },
    {
      "cell_type": "code",
      "source": [],
      "metadata": {
        "id": "IBmqXLS6BVQ_"
      },
      "execution_count": null,
      "outputs": []
    }
  ]
}